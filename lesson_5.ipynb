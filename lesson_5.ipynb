{
 "cells": [
  {
   "cell_type": "markdown",
   "metadata": {},
   "source": [
    "# 類貪食蛇"
   ]
  },
  {
   "cell_type": "code",
   "execution_count": 1,
   "metadata": {},
   "outputs": [],
   "source": [
    "import numpy as np\n",
    "from ipywidgets import interact \n",
    "\n",
    "l1 = [1, 1, 1, 1, 7] \n",
    "a1 = np.zeros((10, 10), dtype=int)\n",
    "a2 = np.zeros((10, 10), dtype=int)"
   ]
  },
  {
   "cell_type": "code",
   "execution_count": 2,
   "metadata": {},
   "outputs": [],
   "source": [
    "a1[5][4] = 1\n",
    "r = 5\n",
    "a = 4\n",
    "flag = 1\n",
    "## flag 1 = right[0,1]\n",
    "## flag 2 = down[-1,0]\n",
    "## flag 3 = left[0,-1]\n",
    "## flag 4 = up[1,0]"
   ]
  },
  {
   "cell_type": "code",
   "execution_count": 3,
   "metadata": {},
   "outputs": [],
   "source": [
    "for i in range(2,101):\n",
    "    while(a1[r][a] > 0):\n",
    "        if flag % 4 == 1:\n",
    "            a += 1\n",
    "        if flag % 4 == 2:\n",
    "            r -= 1\n",
    "        if flag % 4 == 3:\n",
    "            a -= 1\n",
    "        if flag % 4 == 0:\n",
    "            r += 1\n",
    "            \n",
    "        flag += 1\n",
    "        \n",
    "        if(a1[r][a] > 0):\n",
    "            flag -= 1\n",
    "            if flag % 4 == 1:\n",
    "                a -= 1\n",
    "            if flag % 4 == 2:\n",
    "                r += 1\n",
    "            if flag % 4 == 3:\n",
    "                a += 1\n",
    "            if flag % 4 == 0:\n",
    "                r -= 1\n",
    "            flag -= 1\n",
    "            continue\n",
    "            \n",
    "    a1[r][a] = i"
   ]
  },
  {
   "cell_type": "code",
   "execution_count": 4,
   "metadata": {},
   "outputs": [],
   "source": [
    "def e04(x = 1):\n",
    "    a2 = np.zeros((10, 10), dtype=int)\n",
    "    for n in range(5):\n",
    "        for i in range(10):\n",
    "            for j in range(10):\n",
    "                if(a1[i][j] == x+n):\n",
    "                    a2[i][j] = l1[n]\n",
    "                    \n",
    "    print(a2)"
   ]
  },
  {
   "cell_type": "code",
   "execution_count": 5,
   "metadata": {},
   "outputs": [
    {
     "data": {
      "application/vnd.jupyter.widget-view+json": {
       "model_id": "495359fa2c5c4b65a3c74c8282c9516d",
       "version_major": 2,
       "version_minor": 0
      },
      "text/plain": [
       "interactive(children=(IntSlider(value=1, description='x', max=96, min=1), Output()), _dom_classes=('widget-int…"
      ]
     },
     "metadata": {},
     "output_type": "display_data"
    },
    {
     "data": {
      "text/plain": [
       "<function __main__.e04(x=1)>"
      ]
     },
     "execution_count": 5,
     "metadata": {},
     "output_type": "execute_result"
    }
   ],
   "source": [
    "interact(e04, x = (1 ,96))"
   ]
  }
 ],
 "metadata": {
  "kernelspec": {
   "display_name": "Python 3",
   "language": "python",
   "name": "python3"
  },
  "language_info": {
   "codemirror_mode": {
    "name": "ipython",
    "version": 3
   },
   "file_extension": ".py",
   "mimetype": "text/x-python",
   "name": "python",
   "nbconvert_exporter": "python",
   "pygments_lexer": "ipython3",
   "version": "3.7.3"
  }
 },
 "nbformat": 4,
 "nbformat_minor": 2
}
