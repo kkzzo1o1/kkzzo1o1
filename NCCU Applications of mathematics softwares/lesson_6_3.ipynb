{
 "cells": [
  {
   "cell_type": "markdown",
   "metadata": {},
   "source": [
    "# 替換檔案中的特定字串"
   ]
  },
  {
   "cell_type": "code",
   "execution_count": 35,
   "metadata": {},
   "outputs": [],
   "source": [
    "import os"
   ]
  },
  {
   "cell_type": "code",
   "execution_count": 91,
   "metadata": {},
   "outputs": [],
   "source": [
    "input1 = {}"
   ]
  },
  {
   "cell_type": "code",
   "execution_count": 92,
   "metadata": {},
   "outputs": [],
   "source": [
    "input1 ={'Sentence' : 'opinion',\n",
    "         'An apple a day keeps the doctor away.' : 'GOOD',\n",
    "         'A banana a day keeps the doctor away.' : 'NOT BAD',\n",
    "         'A pineorange a day keeps the doctor away.' : 'GREAT'}"
   ]
  },
  {
   "cell_type": "code",
   "execution_count": 93,
   "metadata": {},
   "outputs": [],
   "source": [
    "f = open('input1.csv','w')"
   ]
  },
  {
   "cell_type": "code",
   "execution_count": 94,
   "metadata": {},
   "outputs": [],
   "source": [
    "for i in input1.keys():\n",
    "    spammm = input1[i]\n",
    "    print(f'{i},{spammm}', file = f)"
   ]
  },
  {
   "cell_type": "code",
   "execution_count": 95,
   "metadata": {},
   "outputs": [],
   "source": [
    "f.close()"
   ]
  },
  {
   "cell_type": "code",
   "execution_count": 90,
   "metadata": {},
   "outputs": [],
   "source": [
    "with open('input1.csv', 'r') as f1,open('output1.csv', 'w') as f2:\n",
    "        for line in f1:\n",
    "            if 'apple' in line:\n",
    "                line = line.replace('apple', 'orange')\n",
    "                f2.write(line)\n",
    "            else:\n",
    "                f2.write(line)\n",
    "        os.remove('input1.csv')\n",
    "        "
   ]
  }
 ],
 "metadata": {
  "kernelspec": {
   "display_name": "Python 3",
   "language": "python",
   "name": "python3"
  },
  "language_info": {
   "codemirror_mode": {
    "name": "ipython",
    "version": 3
   },
   "file_extension": ".py",
   "mimetype": "text/x-python",
   "name": "python",
   "nbconvert_exporter": "python",
   "pygments_lexer": "ipython3",
   "version": "3.7.3"
  }
 },
 "nbformat": 4,
 "nbformat_minor": 2
}
