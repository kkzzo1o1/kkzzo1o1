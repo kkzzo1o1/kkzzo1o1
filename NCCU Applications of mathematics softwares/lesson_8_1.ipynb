{
 "cells": [
  {
   "cell_type": "code",
   "execution_count": 1,
   "metadata": {},
   "outputs": [],
   "source": [
    "%matplotlib inline\n",
    "\n",
    "import numpy as np\n",
    "import matplotlib.pyplot as plt\n",
    "plt.rcParams['font.sans-serif'] = ['SimHei']\n",
    "plt.rcParams['axes.unicode_minus'] = False \n",
    "import pandas as pd"
   ]
  },
  {
   "cell_type": "markdown",
   "metadata": {},
   "source": [
    "## 各梯次替代役役男學歷統計表"
   ]
  },
  {
   "cell_type": "code",
   "execution_count": 2,
   "metadata": {},
   "outputs": [],
   "source": [
    "df = pd.read_csv(\"https://quality.data.gov.tw/dq_download_csv.php?nid=73249&md5_url=0edbbf4b7e03f2761085bfdc1113d38e\")"
   ]
  },
  {
   "cell_type": "code",
   "execution_count": 3,
   "metadata": {},
   "outputs": [
    {
     "data": {
      "text/html": [
       "<div>\n",
       "<style scoped>\n",
       "    .dataframe tbody tr th:only-of-type {\n",
       "        vertical-align: middle;\n",
       "    }\n",
       "\n",
       "    .dataframe tbody tr th {\n",
       "        vertical-align: top;\n",
       "    }\n",
       "\n",
       "    .dataframe thead th {\n",
       "        text-align: right;\n",
       "    }\n",
       "</style>\n",
       "<table border=\"1\" class=\"dataframe\">\n",
       "  <thead>\n",
       "    <tr style=\"text-align: right;\">\n",
       "      <th></th>\n",
       "      <th>梯次</th>\n",
       "      <th>基礎訓練人數</th>\n",
       "      <th>博 士</th>\n",
       "      <th>碩 士</th>\n",
       "      <th>學 士</th>\n",
       "      <th>大 專</th>\n",
       "      <th>高中職</th>\n",
       "      <th>國 中</th>\n",
       "      <th>國 小</th>\n",
       "      <th>其他</th>\n",
       "    </tr>\n",
       "  </thead>\n",
       "  <tbody>\n",
       "    <tr>\n",
       "      <td>0</td>\n",
       "      <td>174梯次</td>\n",
       "      <td>2247.0</td>\n",
       "      <td>83</td>\n",
       "      <td>902</td>\n",
       "      <td>1051</td>\n",
       "      <td>11</td>\n",
       "      <td>173</td>\n",
       "      <td>26</td>\n",
       "      <td>1</td>\n",
       "      <td>0</td>\n",
       "    </tr>\n",
       "    <tr>\n",
       "      <td>1</td>\n",
       "      <td>NaN</td>\n",
       "      <td>NaN</td>\n",
       "      <td>3.69%</td>\n",
       "      <td>40.14%</td>\n",
       "      <td>46.77%</td>\n",
       "      <td>0.49%</td>\n",
       "      <td>7.70%</td>\n",
       "      <td>1.16%</td>\n",
       "      <td>0.04%</td>\n",
       "      <td>0.00%</td>\n",
       "    </tr>\n",
       "    <tr>\n",
       "      <td>2</td>\n",
       "      <td>175梯次</td>\n",
       "      <td>1902.0</td>\n",
       "      <td>18</td>\n",
       "      <td>506</td>\n",
       "      <td>1128</td>\n",
       "      <td>12</td>\n",
       "      <td>205</td>\n",
       "      <td>30</td>\n",
       "      <td>3</td>\n",
       "      <td>0</td>\n",
       "    </tr>\n",
       "    <tr>\n",
       "      <td>3</td>\n",
       "      <td>NaN</td>\n",
       "      <td>NaN</td>\n",
       "      <td>0.95%</td>\n",
       "      <td>26.60%</td>\n",
       "      <td>59.31%</td>\n",
       "      <td>0.63%</td>\n",
       "      <td>10.78%</td>\n",
       "      <td>1.58%</td>\n",
       "      <td>0.16%</td>\n",
       "      <td>0.00%</td>\n",
       "    </tr>\n",
       "    <tr>\n",
       "      <td>4</td>\n",
       "      <td>176梯次</td>\n",
       "      <td>1549.0</td>\n",
       "      <td>13</td>\n",
       "      <td>373</td>\n",
       "      <td>901</td>\n",
       "      <td>12</td>\n",
       "      <td>209</td>\n",
       "      <td>35</td>\n",
       "      <td>6</td>\n",
       "      <td>0</td>\n",
       "    </tr>\n",
       "  </tbody>\n",
       "</table>\n",
       "</div>"
      ],
      "text/plain": [
       "      梯次  基礎訓練人數    博 士     碩 士     學 士    大 專     高中職    國 中    國 小     其他\n",
       "0  174梯次  2247.0     83     902    1051     11     173     26      1      0\n",
       "1    NaN     NaN  3.69%  40.14%  46.77%  0.49%   7.70%  1.16%  0.04%  0.00%\n",
       "2  175梯次  1902.0     18     506    1128     12     205     30      3      0\n",
       "3    NaN     NaN  0.95%  26.60%  59.31%  0.63%  10.78%  1.58%  0.16%  0.00%\n",
       "4  176梯次  1549.0     13     373     901     12     209     35      6      0"
      ]
     },
     "execution_count": 3,
     "metadata": {},
     "output_type": "execute_result"
    }
   ],
   "source": [
    "df.head()"
   ]
  },
  {
   "cell_type": "code",
   "execution_count": 4,
   "metadata": {},
   "outputs": [],
   "source": [
    "for i in range(21):\n",
    "    k = 2 * i + 1\n",
    "    df.drop(k, inplace=True)"
   ]
  },
  {
   "cell_type": "code",
   "execution_count": 5,
   "metadata": {},
   "outputs": [],
   "source": [
    "df.drop('其他', axis = 1, inplace=True)"
   ]
  },
  {
   "cell_type": "code",
   "execution_count": 6,
   "metadata": {},
   "outputs": [
    {
     "data": {
      "text/html": [
       "<div>\n",
       "<style scoped>\n",
       "    .dataframe tbody tr th:only-of-type {\n",
       "        vertical-align: middle;\n",
       "    }\n",
       "\n",
       "    .dataframe tbody tr th {\n",
       "        vertical-align: top;\n",
       "    }\n",
       "\n",
       "    .dataframe thead th {\n",
       "        text-align: right;\n",
       "    }\n",
       "</style>\n",
       "<table border=\"1\" class=\"dataframe\">\n",
       "  <thead>\n",
       "    <tr style=\"text-align: right;\">\n",
       "      <th></th>\n",
       "      <th>梯次</th>\n",
       "      <th>基礎訓練人數</th>\n",
       "      <th>博 士</th>\n",
       "      <th>碩 士</th>\n",
       "      <th>學 士</th>\n",
       "      <th>大 專</th>\n",
       "      <th>高中職</th>\n",
       "      <th>國 中</th>\n",
       "      <th>國 小</th>\n",
       "    </tr>\n",
       "  </thead>\n",
       "  <tbody>\n",
       "    <tr>\n",
       "      <td>0</td>\n",
       "      <td>174梯次</td>\n",
       "      <td>2247.0</td>\n",
       "      <td>83</td>\n",
       "      <td>902</td>\n",
       "      <td>1051</td>\n",
       "      <td>11</td>\n",
       "      <td>173</td>\n",
       "      <td>26</td>\n",
       "      <td>1</td>\n",
       "    </tr>\n",
       "    <tr>\n",
       "      <td>2</td>\n",
       "      <td>175梯次</td>\n",
       "      <td>1902.0</td>\n",
       "      <td>18</td>\n",
       "      <td>506</td>\n",
       "      <td>1128</td>\n",
       "      <td>12</td>\n",
       "      <td>205</td>\n",
       "      <td>30</td>\n",
       "      <td>3</td>\n",
       "    </tr>\n",
       "    <tr>\n",
       "      <td>4</td>\n",
       "      <td>176梯次</td>\n",
       "      <td>1549.0</td>\n",
       "      <td>13</td>\n",
       "      <td>373</td>\n",
       "      <td>901</td>\n",
       "      <td>12</td>\n",
       "      <td>209</td>\n",
       "      <td>35</td>\n",
       "      <td>6</td>\n",
       "    </tr>\n",
       "    <tr>\n",
       "      <td>6</td>\n",
       "      <td>177梯次</td>\n",
       "      <td>1059.0</td>\n",
       "      <td>35</td>\n",
       "      <td>293</td>\n",
       "      <td>478</td>\n",
       "      <td>8</td>\n",
       "      <td>182</td>\n",
       "      <td>54</td>\n",
       "      <td>9</td>\n",
       "    </tr>\n",
       "    <tr>\n",
       "      <td>8</td>\n",
       "      <td>178梯次</td>\n",
       "      <td>2666.0</td>\n",
       "      <td>11</td>\n",
       "      <td>183</td>\n",
       "      <td>724</td>\n",
       "      <td>1631</td>\n",
       "      <td>113</td>\n",
       "      <td>4</td>\n",
       "      <td>0</td>\n",
       "    </tr>\n",
       "  </tbody>\n",
       "</table>\n",
       "</div>"
      ],
      "text/plain": [
       "      梯次  基礎訓練人數 博 士  碩 士   學 士   大 專  高中職 國 中 國 小\n",
       "0  174梯次  2247.0  83  902  1051    11  173  26   1\n",
       "2  175梯次  1902.0  18  506  1128    12  205  30   3\n",
       "4  176梯次  1549.0  13  373   901    12  209  35   6\n",
       "6  177梯次  1059.0  35  293   478     8  182  54   9\n",
       "8  178梯次  2666.0  11  183   724  1631  113   4   0"
      ]
     },
     "execution_count": 6,
     "metadata": {},
     "output_type": "execute_result"
    }
   ],
   "source": [
    "df.head()"
   ]
  },
  {
   "cell_type": "code",
   "execution_count": 7,
   "metadata": {},
   "outputs": [],
   "source": [
    "df.index = range(1, 22)"
   ]
  },
  {
   "cell_type": "code",
   "execution_count": 8,
   "metadata": {},
   "outputs": [
    {
     "data": {
      "text/html": [
       "<div>\n",
       "<style scoped>\n",
       "    .dataframe tbody tr th:only-of-type {\n",
       "        vertical-align: middle;\n",
       "    }\n",
       "\n",
       "    .dataframe tbody tr th {\n",
       "        vertical-align: top;\n",
       "    }\n",
       "\n",
       "    .dataframe thead th {\n",
       "        text-align: right;\n",
       "    }\n",
       "</style>\n",
       "<table border=\"1\" class=\"dataframe\">\n",
       "  <thead>\n",
       "    <tr style=\"text-align: right;\">\n",
       "      <th></th>\n",
       "      <th>梯次</th>\n",
       "      <th>基礎訓練人數</th>\n",
       "      <th>博 士</th>\n",
       "      <th>碩 士</th>\n",
       "      <th>學 士</th>\n",
       "      <th>大 專</th>\n",
       "      <th>高中職</th>\n",
       "      <th>國 中</th>\n",
       "      <th>國 小</th>\n",
       "    </tr>\n",
       "  </thead>\n",
       "  <tbody>\n",
       "    <tr>\n",
       "      <td>1</td>\n",
       "      <td>174梯次</td>\n",
       "      <td>2247.0</td>\n",
       "      <td>83</td>\n",
       "      <td>902</td>\n",
       "      <td>1051</td>\n",
       "      <td>11</td>\n",
       "      <td>173</td>\n",
       "      <td>26</td>\n",
       "      <td>1</td>\n",
       "    </tr>\n",
       "    <tr>\n",
       "      <td>2</td>\n",
       "      <td>175梯次</td>\n",
       "      <td>1902.0</td>\n",
       "      <td>18</td>\n",
       "      <td>506</td>\n",
       "      <td>1128</td>\n",
       "      <td>12</td>\n",
       "      <td>205</td>\n",
       "      <td>30</td>\n",
       "      <td>3</td>\n",
       "    </tr>\n",
       "    <tr>\n",
       "      <td>3</td>\n",
       "      <td>176梯次</td>\n",
       "      <td>1549.0</td>\n",
       "      <td>13</td>\n",
       "      <td>373</td>\n",
       "      <td>901</td>\n",
       "      <td>12</td>\n",
       "      <td>209</td>\n",
       "      <td>35</td>\n",
       "      <td>6</td>\n",
       "    </tr>\n",
       "    <tr>\n",
       "      <td>4</td>\n",
       "      <td>177梯次</td>\n",
       "      <td>1059.0</td>\n",
       "      <td>35</td>\n",
       "      <td>293</td>\n",
       "      <td>478</td>\n",
       "      <td>8</td>\n",
       "      <td>182</td>\n",
       "      <td>54</td>\n",
       "      <td>9</td>\n",
       "    </tr>\n",
       "    <tr>\n",
       "      <td>5</td>\n",
       "      <td>178梯次</td>\n",
       "      <td>2666.0</td>\n",
       "      <td>11</td>\n",
       "      <td>183</td>\n",
       "      <td>724</td>\n",
       "      <td>1631</td>\n",
       "      <td>113</td>\n",
       "      <td>4</td>\n",
       "      <td>0</td>\n",
       "    </tr>\n",
       "  </tbody>\n",
       "</table>\n",
       "</div>"
      ],
      "text/plain": [
       "      梯次  基礎訓練人數 博 士  碩 士   學 士   大 專  高中職 國 中 國 小\n",
       "1  174梯次  2247.0  83  902  1051    11  173  26   1\n",
       "2  175梯次  1902.0  18  506  1128    12  205  30   3\n",
       "3  176梯次  1549.0  13  373   901    12  209  35   6\n",
       "4  177梯次  1059.0  35  293   478     8  182  54   9\n",
       "5  178梯次  2666.0  11  183   724  1631  113   4   0"
      ]
     },
     "execution_count": 8,
     "metadata": {},
     "output_type": "execute_result"
    }
   ],
   "source": [
    "df.head()"
   ]
  },
  {
   "cell_type": "code",
   "execution_count": 9,
   "metadata": {},
   "outputs": [],
   "source": [
    "df['基礎訓練人數'] = df['基礎訓練人數'].astype(int)\n",
    "df['博 士'] = df['博 士'].astype(int)\n",
    "df['碩 士'] = df['碩 士'].astype(int)\n",
    "df['學 士'] = df['學 士'].astype(int)\n",
    "df['大 專'] = df['大 專'].astype(int)\n",
    "df['高中職'] = df['高中職'].astype(int)\n",
    "df['國 中'] = df['國 中'].astype(int)\n",
    "df['國 小'] = df['國 小'].astype(int)\n",
    "df['高中職以下'] = df['高中職'] + df['國 中'] + df['國 小']\n",
    "df.drop('高中職', axis = 1, inplace=True)\n",
    "df.drop('國 中', axis = 1, inplace=True)\n",
    "df.drop('國 小', axis = 1, inplace=True)\n"
   ]
  },
  {
   "cell_type": "code",
   "execution_count": 10,
   "metadata": {
    "scrolled": true
   },
   "outputs": [
    {
     "data": {
      "text/html": [
       "<div>\n",
       "<style scoped>\n",
       "    .dataframe tbody tr th:only-of-type {\n",
       "        vertical-align: middle;\n",
       "    }\n",
       "\n",
       "    .dataframe tbody tr th {\n",
       "        vertical-align: top;\n",
       "    }\n",
       "\n",
       "    .dataframe thead th {\n",
       "        text-align: right;\n",
       "    }\n",
       "</style>\n",
       "<table border=\"1\" class=\"dataframe\">\n",
       "  <thead>\n",
       "    <tr style=\"text-align: right;\">\n",
       "      <th></th>\n",
       "      <th>梯次</th>\n",
       "      <th>基礎訓練人數</th>\n",
       "      <th>博 士</th>\n",
       "      <th>碩 士</th>\n",
       "      <th>學 士</th>\n",
       "      <th>大 專</th>\n",
       "      <th>高中職以下</th>\n",
       "    </tr>\n",
       "  </thead>\n",
       "  <tbody>\n",
       "    <tr>\n",
       "      <td>1</td>\n",
       "      <td>174梯次</td>\n",
       "      <td>2247</td>\n",
       "      <td>83</td>\n",
       "      <td>902</td>\n",
       "      <td>1051</td>\n",
       "      <td>11</td>\n",
       "      <td>200</td>\n",
       "    </tr>\n",
       "    <tr>\n",
       "      <td>2</td>\n",
       "      <td>175梯次</td>\n",
       "      <td>1902</td>\n",
       "      <td>18</td>\n",
       "      <td>506</td>\n",
       "      <td>1128</td>\n",
       "      <td>12</td>\n",
       "      <td>238</td>\n",
       "    </tr>\n",
       "    <tr>\n",
       "      <td>3</td>\n",
       "      <td>176梯次</td>\n",
       "      <td>1549</td>\n",
       "      <td>13</td>\n",
       "      <td>373</td>\n",
       "      <td>901</td>\n",
       "      <td>12</td>\n",
       "      <td>250</td>\n",
       "    </tr>\n",
       "    <tr>\n",
       "      <td>4</td>\n",
       "      <td>177梯次</td>\n",
       "      <td>1059</td>\n",
       "      <td>35</td>\n",
       "      <td>293</td>\n",
       "      <td>478</td>\n",
       "      <td>8</td>\n",
       "      <td>245</td>\n",
       "    </tr>\n",
       "    <tr>\n",
       "      <td>5</td>\n",
       "      <td>178梯次</td>\n",
       "      <td>2666</td>\n",
       "      <td>11</td>\n",
       "      <td>183</td>\n",
       "      <td>724</td>\n",
       "      <td>1631</td>\n",
       "      <td>117</td>\n",
       "    </tr>\n",
       "  </tbody>\n",
       "</table>\n",
       "</div>"
      ],
      "text/plain": [
       "      梯次  基礎訓練人數  博 士  碩 士   學 士   大 專  高中職以下\n",
       "1  174梯次    2247   83  902  1051    11    200\n",
       "2  175梯次    1902   18  506  1128    12    238\n",
       "3  176梯次    1549   13  373   901    12    250\n",
       "4  177梯次    1059   35  293   478     8    245\n",
       "5  178梯次    2666   11  183   724  1631    117"
      ]
     },
     "execution_count": 10,
     "metadata": {},
     "output_type": "execute_result"
    }
   ],
   "source": [
    "df.head()"
   ]
  },
  {
   "cell_type": "markdown",
   "metadata": {},
   "source": [
    "### 平均基礎訓練人數"
   ]
  },
  {
   "cell_type": "code",
   "execution_count": 11,
   "metadata": {},
   "outputs": [
    {
     "data": {
      "text/plain": [
       "1982"
      ]
     },
     "execution_count": 11,
     "metadata": {},
     "output_type": "execute_result"
    }
   ],
   "source": [
    "int(df['基礎訓練人數'].mean())"
   ]
  },
  {
   "cell_type": "code",
   "execution_count": 12,
   "metadata": {},
   "outputs": [
    {
     "data": {
      "text/plain": [
       "<matplotlib.axes._subplots.AxesSubplot at 0x1139e4198>"
      ]
     },
     "execution_count": 12,
     "metadata": {},
     "output_type": "execute_result"
    },
    {
     "data": {
      "image/png": "[encoded data removed]",
      "text/plain": [
       "<Figure size 432x288 with 1 Axes>"
      ]
     },
     "metadata": {
      "needs_background": "light"
     },
     "output_type": "display_data"
    }
   ],
   "source": [
    "df.基礎訓練人數.plot(title = 'Trainers', yticks = range(0,3000,200),use_index = 'false')"
   ]
  },
  {
   "cell_type": "markdown",
   "metadata": {},
   "source": [
    "### 整體博士/碩士／學士 /大專 /高中職以下人數比率"
   ]
  },
  {
   "cell_type": "code",
   "execution_count": 13,
   "metadata": {},
   "outputs": [
    {
     "name": "stdout",
     "output_type": "stream",
     "text": [
      "博士比率：1.99%\n",
      "碩士比率：41.82%\n",
      "學士比率：39.97%\n",
      "大專比率：8.57%\n",
      "高中職以下比率：7.64%\n"
     ]
    }
   ],
   "source": [
    "print('博士比率：{:.2%}'.format(int((df['博 士'].sum())) / int(df['基礎訓練人數'].sum())))\n",
    "print('碩士比率：{:.2%}'.format(int((df['碩 士'].sum())) / int(df['基礎訓練人數'].sum())))\n",
    "print('學士比率：{:.2%}'.format(int((df['學 士'].sum())) / int(df['基礎訓練人數'].sum())))\n",
    "print('大專比率：{:.2%}'.format(int((df['大 專'].sum())) / int(df['基礎訓練人數'].sum())))\n",
    "print('高中職以下比率：{:.2%}'.format(int(df['高中職以下'].sum())/ int(df['基礎訓練人數'].sum())))"
   ]
  },
  {
   "cell_type": "code",
   "execution_count": 21,
   "metadata": {},
   "outputs": [
    {
     "data": {
      "text/plain": [
       "(1.0, 21.0, -99.85000000000001, 2162.85)"
      ]
     },
     "execution_count": 21,
     "metadata": {},
     "output_type": "execute_result"
    },
    {
     "data": {
      "image/png": "[encoded data removed]",
      "text/plain": [
       "<Figure size 432x288 with 1 Axes>"
      ]
     },
     "metadata": {
      "needs_background": "light"
     },
     "output_type": "display_data"
    }
   ],
   "source": [
    "df['博 士'].plot(color = 'red',legend = 'true')\n",
    "df['碩 士'].plot(color = 'white',legend = 'true')\n",
    "df['學 士'].plot(color = 'black',legend = 'true')\n",
    "df['大 專'].plot(color = 'yellow',legend = 'true')\n",
    "df['高中職以下'].plot(color ='m',legend = 'true')\n",
    "plt.axis('off') "
   ]
  },
  {
   "cell_type": "code",
   "execution_count": 15,
   "metadata": {},
   "outputs": [],
   "source": []
  }
 ],
 "metadata": {
  "kernelspec": {
   "display_name": "Python 3",
   "language": "python",
   "name": "python3"
  },
  "language_info": {
   "codemirror_mode": {
    "name": "ipython",
    "version": 3
   },
   "file_extension": ".py",
   "mimetype": "text/x-python",
   "name": "python",
   "nbconvert_exporter": "python",
   "pygments_lexer": "ipython3",
   "version": "3.7.3"
  }
 },
 "nbformat": 4,
 "nbformat_minor": 2
}
