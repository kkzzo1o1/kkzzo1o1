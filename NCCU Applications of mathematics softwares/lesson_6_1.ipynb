{
 "cells": [
  {
   "cell_type": "markdown",
   "metadata": {},
   "source": [
    " # 類貪食蛇v1.1\n",
    " \n",
    " ## v1.1新增自訂矩形大小"
   ]
  },
  {
   "cell_type": "code",
   "execution_count": 1,
   "metadata": {},
   "outputs": [],
   "source": [
    "import numpy as np\n",
    "from ipywidgets import interact "
   ]
  },
  {
   "cell_type": "code",
   "execution_count": 2,
   "metadata": {},
   "outputs": [
    {
     "name": "stdout",
     "output_type": "stream",
     "text": [
      "Length:15\n",
      "Width:15\n"
     ]
    }
   ],
   "source": [
    "length = int(input('Length:'))\n",
    "width = int(input('Width:'))"
   ]
  },
  {
   "cell_type": "code",
   "execution_count": 3,
   "metadata": {},
   "outputs": [],
   "source": [
    "l1 = ['●','●', '●', '●', 'ღ'] \n",
    "a1 = np.zeros((width, length), dtype=int)\n",
    "a2 = np.zeros((width, length), dtype=str)"
   ]
  },
  {
   "cell_type": "code",
   "execution_count": 4,
   "metadata": {},
   "outputs": [],
   "source": [
    "r = int(width / 2)\n",
    "a = int(length / 2)\n",
    "a1[r][a] = 1\n",
    "flag = 1\n",
    "## flag 1 = right[0,1]\n",
    "## flag 2 = down[-1,0]\n",
    "## flag 3 = left[0,-1]\n",
    "## flag 4 = up[1,0]"
   ]
  },
  {
   "cell_type": "code",
   "execution_count": 5,
   "metadata": {},
   "outputs": [],
   "source": [
    "for i in range(2,length * width + 1):\n",
    "    while(a1[r][a] != 0):\n",
    "        if flag % 4 == 1:\n",
    "            a += 1\n",
    "        if flag % 4 == 2:\n",
    "            r -= 1\n",
    "        if flag % 4 == 3:\n",
    "            a -= 1\n",
    "        if flag % 4 == 0:\n",
    "            r += 1\n",
    "            \n",
    "        flag += 1\n",
    "        \n",
    "        if(a1[r][a] != 0):\n",
    "            flag -= 1\n",
    "            if flag % 4 == 1:\n",
    "                a -= 1\n",
    "            if flag % 4 == 2:\n",
    "                r += 1\n",
    "            if flag % 4 == 3:\n",
    "                a += 1\n",
    "            if flag % 4 == 0:\n",
    "                r -= 1\n",
    "            flag -= 1\n",
    "            continue\n",
    "            \n",
    "    a1[r][a] = i"
   ]
  },
  {
   "cell_type": "code",
   "execution_count": 6,
   "metadata": {},
   "outputs": [],
   "source": [
    "def e04(x = 1):\n",
    "    a2 = np.zeros((width, length), dtype=str)\n",
    "    for l1_index in range(5):\n",
    "        for i in range(width):\n",
    "            for j in range(length):\n",
    "                if(a1[i][j] == x+l1_index):\n",
    "                    a2[i][j] = l1[l1_index]\n",
    "                elif(not a2[i][j]):\n",
    "                    a2[i][j] = '  '\n",
    "\n",
    "    for i in range(width):\n",
    "        for j in range(length):\n",
    "             print(a2[i][j], end = '   ')   \n",
    "        print('\\n')\n",
    "    "
   ]
  },
  {
   "cell_type": "code",
   "execution_count": 7,
   "metadata": {},
   "outputs": [
    {
     "data": {
      "application/vnd.jupyter.widget-view+json": {
       "model_id": "4bb662934f7d4d06974ecd0307d89c82",
       "version_major": 2,
       "version_minor": 0
      },
      "text/plain": [
       "interactive(children=(IntSlider(value=1, description='x', max=221, min=1), Output()), _dom_classes=('widget-in…"
      ]
     },
     "metadata": {},
     "output_type": "display_data"
    },
    {
     "data": {
      "text/plain": [
       "<function __main__.e04(x=1)>"
      ]
     },
     "execution_count": 7,
     "metadata": {},
     "output_type": "execute_result"
    }
   ],
   "source": [
    "interact(e04, x = (1 ,length * width - 4))"
   ]
  }
 ],
 "metadata": {
  "kernelspec": {
   "display_name": "Python 3",
   "language": "python",
   "name": "python3"
  },
  "language_info": {
   "codemirror_mode": {
    "name": "ipython",
    "version": 3
   },
   "file_extension": ".py",
   "mimetype": "text/x-python",
   "name": "python",
   "nbconvert_exporter": "python",
   "pygments_lexer": "ipython3",
   "version": "3.7.3"
  }
 },
 "nbformat": 4,
 "nbformat_minor": 2
}
