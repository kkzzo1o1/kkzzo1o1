{
 "cells": [
  {
   "cell_type": "markdown",
   "metadata": {},
   "source": [
    " # 類貪食蛇v1.2\n",
    " \n",
    " ## v1.1 新增自訂矩形大小\n",
    " ## v1.2 美化外觀，改善螺旋矩陣算法。"
   ]
  },
  {
   "cell_type": "code",
   "execution_count": null,
   "metadata": {},
   "outputs": [],
   "source": [
    "import numpy as np\n",
    "from ipywidgets import interact "
   ]
  },
  {
   "cell_type": "code",
   "execution_count": null,
   "metadata": {},
   "outputs": [],
   "source": [
    "length = int(input('Length:'))\n",
    "width = int(input('Width:'))"
   ]
  },
  {
   "cell_type": "code",
   "execution_count": 528,
   "metadata": {},
   "outputs": [],
   "source": [
    "l1 = ['●','●', '●', '●', 'ღ'] \n",
    "a1 = np.zeros((width, length), dtype=int)"
   ]
  },
  {
   "cell_type": "code",
   "execution_count": 529,
   "metadata": {},
   "outputs": [],
   "source": [
    "r = 0\n",
    "a = 0\n",
    "flag = 1\n",
    "## flag 1 = right[0,1]\n",
    "## flag 2 = down[1,0]\n",
    "## flag 3 = left[0,-1]\n",
    "## flag 4 = up[-1,0]"
   ]
  },
  {
   "cell_type": "code",
   "execution_count": 530,
   "metadata": {},
   "outputs": [],
   "source": [
    "def turn(r,a,flag):\n",
    "    if flag % 4 == 1:\n",
    "        a -= 1 \n",
    "        r += 1\n",
    "    if flag % 4 == 2:\n",
    "        r -= 1\n",
    "        a -= 1\n",
    "    if flag % 4 == 3:\n",
    "        a += 1\n",
    "        r -= 1\n",
    "    if flag % 4 == 0:\n",
    "        r += 1\n",
    "        a += 1\n",
    "    \n",
    "    flag += 1\n",
    "\n",
    "    return r, a, flag\n",
    "    \n",
    "def after_turn(r,a,flag):\n",
    "    if flag % 4 == 1:\n",
    "        a += 1\n",
    "    if flag % 4 == 2:\n",
    "        r += 1\n",
    "    if flag % 4 == 3:\n",
    "        a -= 1\n",
    "    if flag % 4 == 0:\n",
    "        r -= 1    \n",
    "    \n",
    "    return r, a, flag\n",
    "\n",
    "for i in range(1, length * width + 1):\n",
    "    if( r == width or a == length or r < 0 or a < 0):\n",
    "        r, a, flag = turn(r,a,flag)\n",
    "        a1[r][a] = i\n",
    "        r, a, flag = after_turn(r,a,flag)\n",
    "        \n",
    "    elif(a1[r][a] == 0):\n",
    "        a1[r][a] = i\n",
    "        if flag % 4 == 1:\n",
    "            a += 1\n",
    "        if flag % 4 == 2:\n",
    "            r += 1\n",
    "        if flag % 4 == 3:\n",
    "            a -= 1\n",
    "        if flag % 4 == 0:\n",
    "            r -= 1\n",
    "       \n",
    "    elif(a1[r][a] > 0):\n",
    "        r, a, flag = turn(r,a,flag)\n",
    "        a1[r][a] = i\n",
    "        r, a, flag = after_turn(r,a,flag)\n",
    "\n",
    "        "
   ]
  },
  {
   "cell_type": "code",
   "execution_count": 531,
   "metadata": {},
   "outputs": [
    {
     "name": "stdout",
     "output_type": "stream",
     "text": [
      "[[  1   2   3   4   5   6   7   8   9  10  11  12  13  14  15]\n",
      " [ 46  47  48  49  50  51  52  53  54  55  56  57  58  59  16]\n",
      " [ 45  84  85  86  87  88  89  90  91  92  93  94  95  60  17]\n",
      " [ 44  83 114 115 116 117 118 119 120 121 122 123  96  61  18]\n",
      " [ 43  82 113 136 137 138 139 140 141 142 143 124  97  62  19]\n",
      " [ 42  81 112 135 150 149 148 147 146 145 144 125  98  63  20]\n",
      " [ 41  80 111 134 133 132 131 130 129 128 127 126  99  64  21]\n",
      " [ 40  79 110 109 108 107 106 105 104 103 102 101 100  65  22]\n",
      " [ 39  78  77  76  75  74  73  72  71  70  69  68  67  66  23]\n",
      " [ 38  37  36  35  34  33  32  31  30  29  28  27  26  25  24]]\n"
     ]
    }
   ],
   "source": [
    "print(a1)"
   ]
  },
  {
   "cell_type": "code",
   "execution_count": 532,
   "metadata": {},
   "outputs": [],
   "source": [
    "def e04(x = 1):\n",
    "    a2 = np.zeros((width + 2, length + 2), dtype=str)\n",
    "    for l1_index in range(5):\n",
    "        for i in range(1,width + 1):\n",
    "            for j in range(1,length + 1):\n",
    "                if(a1[i-1][j-1] == x + l1_index):\n",
    "                    a2[i][j] = l1[l1_index]\n",
    "                elif(not a2[i][j]):\n",
    "                    a2[i][j] = '  '\n",
    "                    \n",
    "    for i in range(1,width+1):\n",
    "        a2[i][0] = '︳'\n",
    "    for j in range(1,length+1):\n",
    "        a2[0][j] = '-'\n",
    "    for i in range(1,width+1):\n",
    "        a2[i][length + 1] = '︳'\n",
    "    for j in range(1,length+1):\n",
    "        a2[width + 1][j] = '-'\n",
    "    a2[0][0] = '*'\n",
    "    a2[width+1][0] = '*'\n",
    "    a2[0][length+1] = '*'\n",
    "    a2[width+1][length+1] = '*'\n",
    "    \n",
    "    for i in range(width + 2):\n",
    "        for j in range(length + 2):\n",
    "             print(a2[i][j], end = '   ')   \n",
    "        print('\\n')\n",
    "    "
   ]
  },
  {
   "cell_type": "code",
   "execution_count": 533,
   "metadata": {
    "scrolled": true
   },
   "outputs": [
    {
     "data": {
      "application/vnd.jupyter.widget-view+json": {
       "model_id": "85f9ea74f9b8407da4c46328e9a81061",
       "version_major": 2,
       "version_minor": 0
      },
      "text/plain": [
       "interactive(children=(IntSlider(value=1, description='x', max=146, min=1), Output()), _dom_classes=('widget-in…"
      ]
     },
     "metadata": {},
     "output_type": "display_data"
    },
    {
     "data": {
      "text/plain": [
       "<function __main__.e04(x=1)>"
      ]
     },
     "execution_count": 533,
     "metadata": {},
     "output_type": "execute_result"
    }
   ],
   "source": [
    "interact(e04, x = (1 ,length * width - 4))"
   ]
  }
 ],
 "metadata": {
  "kernelspec": {
   "display_name": "Python 3",
   "language": "python",
   "name": "python3"
  },
  "language_info": {
   "codemirror_mode": {
    "name": "ipython",
    "version": 3
   },
   "file_extension": ".py",
   "mimetype": "text/x-python",
   "name": "python",
   "nbconvert_exporter": "python",
   "pygments_lexer": "ipython3",
   "version": "3.7.3"
  }
 },
 "nbformat": 4,
 "nbformat_minor": 2
}
