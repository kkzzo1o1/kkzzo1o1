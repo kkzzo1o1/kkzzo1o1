{
 "cells": [
  {
   "cell_type": "code",
   "execution_count": 250,
   "metadata": {},
   "outputs": [],
   "source": [
    "import requests\n",
    "from bs4 import BeautifulSoup"
   ]
  },
  {
   "cell_type": "code",
   "execution_count": 224,
   "metadata": {},
   "outputs": [],
   "source": [
    "url = \"https://wall.alphacoders.com/by_sub_category.php?id=194862&name=RWBY+Wallpapers\""
   ]
  },
  {
   "cell_type": "code",
   "execution_count": 225,
   "metadata": {},
   "outputs": [],
   "source": [
    "resp = requests.get(url)"
   ]
  },
  {
   "cell_type": "code",
   "execution_count": 226,
   "metadata": {},
   "outputs": [],
   "source": [
    "soup = BeautifulSoup(resp.text, \"lxml\")"
   ]
  },
  {
   "cell_type": "code",
   "execution_count": 227,
   "metadata": {},
   "outputs": [],
   "source": [
    "div_tags = soup.find_all(\"div\", class_= \"boxgrid\")"
   ]
  },
  {
   "cell_type": "code",
   "execution_count": 228,
   "metadata": {},
   "outputs": [
    {
     "data": {
      "text/plain": [
       "[<div class=\"boxgrid\">\n",
       " <a href=\"big.php?i=660721\" title=\"Anime RWBY Ruby Rose Fantasy Woman Girl Warrior HD Wallpaper | Background Image\">\n",
       " <img alt=\"HD Wallpaper | Background Image ID:660721\" class=\"lazy-load\" data-src=\"https://images4.alphacoders.com/660/thumb-350-660721.png\"/>\n",
       " </a>\n",
       " </div>, <div class=\"boxgrid\">\n",
       " <a href=\"big.php?i=552013\" title=\"Anime RWBY Animal Ears Blake Belladonna Girl Rear Sword Katana Long Hair Purple Hair HD Wallpaper | Background Image\">\n",
       " <img alt=\"HD Wallpaper | Background Image ID:552013\" class=\"lazy-load\" data-src=\"https://images5.alphacoders.com/552/thumb-350-552013.png\"/>\n",
       " </a>\n",
       " </div>, <div class=\"boxgrid\">\n",
       " <a href=\"big.php?i=420742\" title=\"Anime RWBY Ruby Rose Weiss Schnee Blake Belladonna Yang Xiao Long HD Wallpaper | Background Image\">\n",
       " <img alt=\"HD Wallpaper | Background Image ID:420742\" class=\"lazy-load\" data-src=\"https://images7.alphacoders.com/420/thumb-350-420742.png\"/>\n",
       " </a>\n",
       " </div>, <div class=\"boxgrid\">\n",
       " <a href=\"big.php?i=728098\" title=\"Anime RWBY Ruby Rose Girl Moon HD Wallpaper | Background Image\">\n",
       " <img alt=\"HD Wallpaper | Background Image ID:728098\" class=\"lazy-load\" data-src=\"https://images.alphacoders.com/728/thumb-350-728098.jpg\"/>\n",
       " </a>\n",
       " </div>, <div class=\"boxgrid\">\n",
       " <a href=\"big.php?i=1014191\" title=\"Anime RWBY Raven Branwen Girl Bird HD Wallpaper | Background Image\">\n",
       " <img alt=\"HD Wallpaper | Background Image ID:1014191\" class=\"lazy-load\" data-src=\"https://images.alphacoders.com/101/thumb-350-1014191.jpg\"/>\n",
       " </a>\n",
       " </div>, <div class=\"boxgrid\">\n",
       " <a href=\"big.php?i=638382\" title=\"Anime RWBY Weiss Schnee Ponytail Blue Eyes Long Hair HD Wallpaper | Background Image\">\n",
       " <img alt=\"HD Wallpaper | Background Image ID:638382\" class=\"lazy-load\" data-src=\"https://images4.alphacoders.com/638/thumb-350-638382.png\"/>\n",
       " </a>\n",
       " </div>, <div class=\"boxgrid\">\n",
       " <a href=\"big.php?i=687738\" title=\"Anime RWBY Ruby Rose Dark Forest Night Raven HD Wallpaper | Background Image\">\n",
       " <img alt=\"HD Wallpaper | Background Image ID:687738\" class=\"lazy-load\" data-src=\"https://images2.alphacoders.com/687/thumb-350-687738.jpg\"/>\n",
       " </a>\n",
       " </div>, <div class=\"boxgrid\">\n",
       " <a href=\"big.php?i=546421\" title=\"Anime RWBY Ruby Rose Blake Belladonna Weiss Schnee Yang Xiao Long Intruder outfit Slayer Outfit SnowPea Outfit Hunter Outfit HD Wallpaper | Background Image\">\n",
       " <img alt=\"HD Wallpaper | Background Image ID:546421\" class=\"lazy-load\" data-src=\"https://images6.alphacoders.com/546/thumb-350-546421.png\"/>\n",
       " </a>\n",
       " </div>, <div class=\"boxgrid\">\n",
       " <a href=\"big.php?i=753772\" title=\"Anime RWBY Blake Belladonna Ruby Rose Weiss Schnee Yang Xiao Long Girl HD Wallpaper | Background Image\">\n",
       " <img alt=\"HD Wallpaper | Background Image ID:753772\" class=\"lazy-load\" data-src=\"https://images.alphacoders.com/753/thumb-350-753772.png\"/>\n",
       " </a>\n",
       " </div>, <div class=\"boxgrid\">\n",
       " <a href=\"big.php?i=650437\" title=\"Anime RWBY Cinder HD Wallpaper | Background Image\">\n",
       " <img alt=\"HD Wallpaper | Background Image ID:650437\" class=\"lazy-load\" data-src=\"https://images4.alphacoders.com/650/thumb-350-650437.png\"/>\n",
       " </a>\n",
       " </div>, <div class=\"boxgrid\">\n",
       " <a href=\"big.php?i=547713\" title=\"Anime RWBY Ruby Rose HD Wallpaper | Background Image\">\n",
       " <img alt=\"HD Wallpaper | Background Image ID:547713\" class=\"lazy-load\" data-src=\"https://images2.alphacoders.com/547/thumb-350-547713.jpg\"/>\n",
       " </a>\n",
       " </div>, <div class=\"boxgrid\">\n",
       " <a href=\"big.php?i=845356\" title=\"Anime RWBY Ruby Rose HD Wallpaper | Background Image\">\n",
       " <img alt=\"HD Wallpaper | Background Image ID:845356\" class=\"lazy-load\" data-src=\"https://images.alphacoders.com/845/thumb-350-845356.jpg\"/>\n",
       " </a>\n",
       " </div>, <div class=\"boxgrid\">\n",
       " <a href=\"big.php?i=591599\" title=\"Anime RWBY Blake Belladonna Ruby Rose Yang Xiao Long Weiss Schnee Intruder outfit Slayer Outfit SnowPea Outfit Hunter Outfit HD Wallpaper | Background Image\">\n",
       " <img alt=\"HD Wallpaper | Background Image ID:591599\" class=\"lazy-load\" data-src=\"https://images3.alphacoders.com/591/thumb-350-591599.png\"/>\n",
       " </a>\n",
       " </div>, <div class=\"boxgrid\">\n",
       " <a href=\"big.php?i=445275\" title=\"Anime RWBY Red White Black Yellow Weiss Schnee Ruby Rose Blake Belladonna Yang Xiao Long HD Wallpaper | Background Image\">\n",
       " <img alt=\"HD Wallpaper | Background Image ID:445275\" class=\"lazy-load\" data-src=\"https://images2.alphacoders.com/445/thumb-350-445275.jpg\"/>\n",
       " </a>\n",
       " </div>, <div class=\"boxgrid\">\n",
       " <a href=\"big.php?i=426418\" title=\"Anime RWBY HD Wallpaper | Background Image\">\n",
       " <img alt=\"HD Wallpaper | Background Image ID:426418\" class=\"lazy-load\" data-src=\"https://images6.alphacoders.com/426/thumb-350-426418.jpg\"/>\n",
       " </a>\n",
       " </div>, <div class=\"boxgrid\">\n",
       " <a href=\"big.php?i=552404\" title=\"Anime RWBY Weiss Schnee Blake Belladonna Yang Xiao Long Ruby Rose HD Wallpaper | Background Image\">\n",
       " <img alt=\"HD Wallpaper | Background Image ID:552404\" class=\"lazy-load\" data-src=\"https://images.alphacoders.com/552/thumb-350-552404.png\"/>\n",
       " </a>\n",
       " </div>, <div class=\"boxgrid\">\n",
       " <a href=\"big.php?i=643334\" title=\"Anime RWBY Cinder Bow HD Wallpaper | Background Image\">\n",
       " <img alt=\"HD Wallpaper | Background Image ID:643334\" class=\"lazy-load\" data-src=\"https://images4.alphacoders.com/643/thumb-350-643334.jpg\"/>\n",
       " </a>\n",
       " </div>, <div class=\"boxgrid\">\n",
       " <a href=\"big.php?i=669574\" title=\"Anime RWBY Yang Xiao Long HD Wallpaper | Background Image\">\n",
       " <img alt=\"HD Wallpaper | Background Image ID:669574\" class=\"lazy-load\" data-src=\"https://images7.alphacoders.com/669/thumb-350-669574.jpg\"/>\n",
       " </a>\n",
       " </div>, <div class=\"boxgrid\">\n",
       " <a href=\"big.php?i=681586\" title=\"Anime RWBY Pyrrha Nikos Red Hair Green Eyes Earrings Weapon Sword Long Hair HD Wallpaper | Background Image\">\n",
       " <img alt=\"HD Wallpaper | Background Image ID:681586\" class=\"lazy-load\" data-src=\"https://images4.alphacoders.com/681/thumb-350-681586.png\"/>\n",
       " </a>\n",
       " </div>, <div class=\"boxgrid\">\n",
       " <a href=\"big.php?i=445257\" title=\"Anime RWBY Ruby Rose Red HD Wallpaper | Background Image\">\n",
       " <img alt=\"HD Wallpaper | Background Image ID:445257\" class=\"lazy-load\" data-src=\"https://images.alphacoders.com/445/thumb-350-445257.jpg\"/>\n",
       " </a>\n",
       " </div>, <div class=\"boxgrid\">\n",
       " <a href=\"big.php?i=687343\" title=\"Anime RWBY Jaune Arc Ice HD Wallpaper | Background Image\">\n",
       " <img alt=\"HD Wallpaper | Background Image ID:687343\" class=\"lazy-load\" data-src=\"https://images5.alphacoders.com/687/thumb-350-687343.jpg\"/>\n",
       " </a>\n",
       " </div>, <div class=\"boxgrid\">\n",
       " <a href=\"big.php?i=652942\" title=\"Anime RWBY Ruby Rose HD Wallpaper | Background Image\">\n",
       " <img alt=\"HD Wallpaper | Background Image ID:652942\" class=\"lazy-load\" data-src=\"https://images3.alphacoders.com/652/thumb-350-652942.jpg\"/>\n",
       " </a>\n",
       " </div>, <div class=\"boxgrid\">\n",
       " <a href=\"big.php?i=454902\" title=\"Anime RWBY HD Wallpaper | Background Image\">\n",
       " <img alt=\"HD Wallpaper | Background Image ID:454902\" class=\"lazy-load\" data-src=\"https://images8.alphacoders.com/454/thumb-350-454902.jpg\"/>\n",
       " </a>\n",
       " </div>, <div class=\"boxgrid\">\n",
       " <a href=\"big.php?i=454895\" title=\"Anime RWBY HD Wallpaper | Background Image\">\n",
       " <img alt=\"HD Wallpaper | Background Image ID:454895\" class=\"lazy-load\" data-src=\"https://images2.alphacoders.com/454/thumb-350-454895.png\"/>\n",
       " </a>\n",
       " </div>, <div class=\"boxgrid\">\n",
       " <a href=\"big.php?i=677002\" title=\"Anime RWBY Ruby Rose Penny Polendina HD Wallpaper | Background Image\">\n",
       " <img alt=\"HD Wallpaper | Background Image ID:677002\" class=\"lazy-load\" data-src=\"https://images5.alphacoders.com/677/thumb-350-677002.jpg\"/>\n",
       " </a>\n",
       " </div>, <div class=\"boxgrid\">\n",
       " <a href=\"big.php?i=552395\" title=\"Anime RWBY Weiss Schnee HD Wallpaper | Background Image\">\n",
       " <img alt=\"HD Wallpaper | Background Image ID:552395\" class=\"lazy-load\" data-src=\"https://images4.alphacoders.com/552/thumb-350-552395.png\"/>\n",
       " </a>\n",
       " </div>, <div class=\"boxgrid\">\n",
       " <a href=\"big.php?i=716181\" title=\"Anime RWBY Blake Belladonna Ruby Rose Yang Xiao Long HD Wallpaper | Background Image\">\n",
       " <img alt=\"HD Wallpaper | Background Image ID:716181\" class=\"lazy-load\" data-src=\"https://images4.alphacoders.com/716/thumb-350-716181.jpg\"/>\n",
       " </a>\n",
       " </div>, <div class=\"boxgrid\">\n",
       " <a href=\"big.php?i=552394\" title=\"Anime RWBY Yang Xiao Long HD Wallpaper | Background Image\">\n",
       " <img alt=\"HD Wallpaper | Background Image ID:552394\" class=\"lazy-load\" data-src=\"https://images4.alphacoders.com/552/thumb-350-552394.png\"/>\n",
       " </a>\n",
       " </div>, <div class=\"boxgrid\">\n",
       " <a href=\"big.php?i=578839\" title=\"Anime RWBY Ruby Rose Weiss Schnee Blake Belladonna Yang Xiao Long HD Wallpaper | Background Image\">\n",
       " <img alt=\"HD Wallpaper | Background Image ID:578839\" class=\"lazy-load\" data-src=\"https://images2.alphacoders.com/578/thumb-350-578839.jpg\"/>\n",
       " </a>\n",
       " </div>, <div class=\"boxgrid\">\n",
       " <a href=\"big.php?i=445266\" title=\"Anime RWBY Yang Xiao Long Yellow HD Wallpaper | Background Image\">\n",
       " <img alt=\"HD Wallpaper | Background Image ID:445266\" class=\"lazy-load\" data-src=\"https://images6.alphacoders.com/445/thumb-350-445266.jpg\"/>\n",
       " </a>\n",
       " </div>]"
      ]
     },
     "execution_count": 228,
     "metadata": {},
     "output_type": "execute_result"
    }
   ],
   "source": [
    "div_tags"
   ]
  },
  {
   "cell_type": "code",
   "execution_count": 229,
   "metadata": {},
   "outputs": [],
   "source": [
    "tags = []\n",
    "for i in range(len(div_tags)):\n",
    "    tags.append(div_tags[i].find_all(\"a\"))"
   ]
  },
  {
   "cell_type": "code",
   "execution_count": 230,
   "metadata": {},
   "outputs": [
    {
     "data": {
      "text/plain": [
       "'big.php?i=660721'"
      ]
     },
     "execution_count": 230,
     "metadata": {},
     "output_type": "execute_result"
    }
   ],
   "source": [
    "tags[0][0][\"href\"]"
   ]
  },
  {
   "cell_type": "code",
   "execution_count": 242,
   "metadata": {},
   "outputs": [],
   "source": [
    "hrefs = []\n",
    "for i in range(len(tags)):\n",
    "    hrefs.append(tags[i][0][\"href\"])"
   ]
  },
  {
   "cell_type": "code",
   "execution_count": 243,
   "metadata": {},
   "outputs": [
    {
     "data": {
      "text/plain": [
       "['big.php?i=660721',\n",
       " 'big.php?i=552013',\n",
       " 'big.php?i=420742',\n",
       " 'big.php?i=728098',\n",
       " 'big.php?i=1014191',\n",
       " 'big.php?i=638382',\n",
       " 'big.php?i=687738',\n",
       " 'big.php?i=546421',\n",
       " 'big.php?i=753772',\n",
       " 'big.php?i=650437',\n",
       " 'big.php?i=547713',\n",
       " 'big.php?i=845356',\n",
       " 'big.php?i=591599',\n",
       " 'big.php?i=445275',\n",
       " 'big.php?i=426418',\n",
       " 'big.php?i=552404',\n",
       " 'big.php?i=643334',\n",
       " 'big.php?i=669574',\n",
       " 'big.php?i=681586',\n",
       " 'big.php?i=445257',\n",
       " 'big.php?i=687343',\n",
       " 'big.php?i=652942',\n",
       " 'big.php?i=454902',\n",
       " 'big.php?i=454895',\n",
       " 'big.php?i=677002',\n",
       " 'big.php?i=552395',\n",
       " 'big.php?i=716181',\n",
       " 'big.php?i=552394',\n",
       " 'big.php?i=578839',\n",
       " 'big.php?i=445266']"
      ]
     },
     "execution_count": 243,
     "metadata": {},
     "output_type": "execute_result"
    }
   ],
   "source": [
    "hrefs"
   ]
  },
  {
   "cell_type": "code",
   "execution_count": 246,
   "metadata": {},
   "outputs": [],
   "source": [
    "new_hrefs = []\n",
    "finally_hrefs = []\n",
    "https = [\"https://wall.alphacoders.com/\"]\n",
    "for i in range(len(hrefs)): \n",
    "    new_hrefs = https[0] + hrefs[i]\n",
    "    \n",
    "    new_resp = requests.get(new_hrefs)\n",
    "    new_soup = BeautifulSoup(new_resp.text, \"lxml\")\n",
    "    new_div_tags = new_soup.find_all(\"div\", class_= \"center img-container-desktop\")    \n",
    "    news_tags = new_div_tags[0].find_all(\"a\")\n",
    "    \n",
    "    finally_hrefs.append(news_tags[0][\"href\"])"
   ]
  },
  {
   "cell_type": "code",
   "execution_count": 249,
   "metadata": {},
   "outputs": [
    {
     "data": {
      "text/plain": [
       "['https://images4.alphacoders.com/660/660721.png',\n",
       " 'https://images5.alphacoders.com/552/552013.png',\n",
       " 'https://images7.alphacoders.com/420/420742.png',\n",
       " 'https://images.alphacoders.com/728/728098.jpg',\n",
       " 'https://images.alphacoders.com/101/1014191.jpg',\n",
       " 'https://images4.alphacoders.com/638/638382.png',\n",
       " 'https://images2.alphacoders.com/687/687738.jpg',\n",
       " 'https://images6.alphacoders.com/546/546421.png',\n",
       " 'https://images.alphacoders.com/753/753772.png',\n",
       " 'https://images4.alphacoders.com/650/650437.png',\n",
       " 'https://images2.alphacoders.com/547/547713.jpg',\n",
       " 'https://images.alphacoders.com/845/845356.jpg',\n",
       " 'https://images3.alphacoders.com/591/591599.png',\n",
       " 'https://images2.alphacoders.com/445/445275.jpg',\n",
       " 'https://images6.alphacoders.com/426/426418.jpg',\n",
       " 'https://images.alphacoders.com/552/552404.png',\n",
       " 'https://images4.alphacoders.com/643/643334.jpg',\n",
       " 'https://images7.alphacoders.com/669/669574.jpg',\n",
       " 'https://images4.alphacoders.com/681/681586.png',\n",
       " 'https://images.alphacoders.com/445/445257.jpg',\n",
       " 'https://images5.alphacoders.com/687/687343.jpg',\n",
       " 'https://images3.alphacoders.com/652/652942.jpg',\n",
       " 'https://images8.alphacoders.com/454/454902.jpg',\n",
       " 'https://images2.alphacoders.com/454/454895.png',\n",
       " 'https://images5.alphacoders.com/677/677002.jpg',\n",
       " 'https://images4.alphacoders.com/552/552395.png',\n",
       " 'https://images4.alphacoders.com/716/716181.jpg',\n",
       " 'https://images4.alphacoders.com/552/552394.png',\n",
       " 'https://images2.alphacoders.com/578/578839.jpg',\n",
       " 'https://images6.alphacoders.com/445/445266.jpg']"
      ]
     },
     "execution_count": 249,
     "metadata": {},
     "output_type": "execute_result"
    }
   ],
   "source": [
    "finally_hrefs"
   ]
  },
  {
   "cell_type": "code",
   "execution_count": null,
   "metadata": {},
   "outputs": [],
   "source": []
  },
  {
   "cell_type": "code",
   "execution_count": null,
   "metadata": {},
   "outputs": [],
   "source": []
  },
  {
   "cell_type": "code",
   "execution_count": 259,
   "metadata": {},
   "outputs": [],
   "source": [
    "import os\n",
    "import random"
   ]
  },
  {
   "cell_type": "code",
   "execution_count": 262,
   "metadata": {},
   "outputs": [],
   "source": [
    "os.makedirs('/Users/liko/Desktop/Xwallpaper', exist_ok=True)"
   ]
  },
  {
   "cell_type": "code",
   "execution_count": 289,
   "metadata": {},
   "outputs": [],
   "source": [
    "url = finally_hrefs[random.randint(0, 30)]\n",
    "r = requests.get(url)\n",
    "with open('/Users/liko/Desktop/Xwallpaper/xwallpaper.jpg','wb') as f:\n",
    "    f.write(r.content)"
   ]
  },
  {
   "cell_type": "code",
   "execution_count": 284,
   "metadata": {},
   "outputs": [
    {
     "ename": "CommandError",
     "evalue": "Command failed:\n\t\tOSERROR: -10000\n\t\tMESSAGE: Apple event handler failed.\n\t\tCOMMAND: app('/System/Library/CoreServices/Finder.app').desktop_picture.set(mactypes.File('/Users/liko/Desktop/Xwallpaper/[\"xwallpaper.jpg\"]'))",
     "output_type": "error",
     "traceback": [
      "\u001b[0;31m---------------------------------------------------------------------------\u001b[0m",
      "\u001b[0;31mEventError\u001b[0m                                Traceback (most recent call last)",
      "\u001b[0;32m~/anaconda3/lib/python3.7/site-packages/aeosa/appscript/reference.py\u001b[0m in \u001b[0;36m__call__\u001b[0;34m(self, *args, **kargs)\u001b[0m\n\u001b[1;32m    459\u001b[0m                 \u001b[0;32mtry\u001b[0m\u001b[0;34m:\u001b[0m\u001b[0;34m\u001b[0m\u001b[0;34m\u001b[0m\u001b[0m\n\u001b[0;32m--> 460\u001b[0;31m                         \u001b[0;32mreturn\u001b[0m \u001b[0mself\u001b[0m\u001b[0;34m.\u001b[0m\u001b[0mAS_appdata\u001b[0m\u001b[0;34m.\u001b[0m\u001b[0mtarget\u001b[0m\u001b[0;34m(\u001b[0m\u001b[0;34m)\u001b[0m\u001b[0;34m.\u001b[0m\u001b[0mevent\u001b[0m\u001b[0;34m(\u001b[0m\u001b[0mself\u001b[0m\u001b[0;34m.\u001b[0m\u001b[0m_code\u001b[0m\u001b[0;34m,\u001b[0m \u001b[0mparams\u001b[0m\u001b[0;34m,\u001b[0m \u001b[0matts\u001b[0m\u001b[0;34m,\u001b[0m \u001b[0mcodecs\u001b[0m\u001b[0;34m=\u001b[0m\u001b[0mself\u001b[0m\u001b[0;34m.\u001b[0m\u001b[0mAS_appdata\u001b[0m\u001b[0;34m)\u001b[0m\u001b[0;34m.\u001b[0m\u001b[0msend\u001b[0m\u001b[0;34m(\u001b[0m\u001b[0mtimeout\u001b[0m\u001b[0;34m,\u001b[0m \u001b[0msendflags\u001b[0m\u001b[0;34m)\u001b[0m\u001b[0;34m\u001b[0m\u001b[0;34m\u001b[0m\u001b[0m\n\u001b[0m\u001b[1;32m    461\u001b[0m                 \u001b[0;32mexcept\u001b[0m \u001b[0maem\u001b[0m\u001b[0;34m.\u001b[0m\u001b[0mEventError\u001b[0m \u001b[0;32mas\u001b[0m \u001b[0me\u001b[0m\u001b[0;34m:\u001b[0m\u001b[0;34m\u001b[0m\u001b[0;34m\u001b[0m\u001b[0m\n",
      "\u001b[0;32m~/anaconda3/lib/python3.7/site-packages/aeosa/aem/aemsend.py\u001b[0m in \u001b[0;36msend\u001b[0;34m(self, timeout, flags)\u001b[0m\n\u001b[1;32m     91\u001b[0m                                                         \u001b[0merrormsg\u001b[0m \u001b[0;34m=\u001b[0m \u001b[0m_defaultcodecs\u001b[0m\u001b[0;34m.\u001b[0m\u001b[0munpack\u001b[0m\u001b[0;34m(\u001b[0m\u001b[0merrormsg\u001b[0m\u001b[0;34m)\u001b[0m\u001b[0;34m\u001b[0m\u001b[0;34m\u001b[0m\u001b[0m\n\u001b[0;32m---> 92\u001b[0;31m                                                 \u001b[0;32mraise\u001b[0m \u001b[0mEventError\u001b[0m\u001b[0;34m(\u001b[0m\u001b[0merrornum\u001b[0m\u001b[0;34m,\u001b[0m \u001b[0merrormsg\u001b[0m\u001b[0;34m,\u001b[0m \u001b[0meventresult\u001b[0m\u001b[0;34m)\u001b[0m\u001b[0;34m\u001b[0m\u001b[0;34m\u001b[0m\u001b[0m\n\u001b[0m\u001b[1;32m     93\u001b[0m                                 \u001b[0;32mif\u001b[0m \u001b[0mkae\u001b[0m\u001b[0;34m.\u001b[0m\u001b[0mkeyAEResult\u001b[0m \u001b[0;32min\u001b[0m \u001b[0meventresult\u001b[0m\u001b[0;34m:\u001b[0m \u001b[0;31m# application has returned a value\u001b[0m\u001b[0;34m\u001b[0m\u001b[0;34m\u001b[0m\u001b[0m\n",
      "\u001b[0;31mEventError\u001b[0m: Command failed: Apple event handler failed. (-10000)",
      "\nThe above exception was the direct cause of the following exception:\n",
      "\u001b[0;31mCommandError\u001b[0m                              Traceback (most recent call last)",
      "\u001b[0;32m<ipython-input-284-08d0960e06dc>\u001b[0m in \u001b[0;36m<module>\u001b[0;34m\u001b[0m\n\u001b[1;32m      3\u001b[0m \u001b[0;34m\u001b[0m\u001b[0m\n\u001b[1;32m      4\u001b[0m \u001b[0mfileName\u001b[0m \u001b[0;34m=\u001b[0m \u001b[0msys\u001b[0m\u001b[0;34m.\u001b[0m\u001b[0margv\u001b[0m\u001b[0;34m[\u001b[0m\u001b[0;36m1\u001b[0m\u001b[0;34m]\u001b[0m\u001b[0;34m\u001b[0m\u001b[0;34m\u001b[0m\u001b[0m\n\u001b[0;32m----> 5\u001b[0;31m \u001b[0mapp\u001b[0m\u001b[0;34m(\u001b[0m\u001b[0;34m'Finder'\u001b[0m\u001b[0;34m)\u001b[0m\u001b[0;34m.\u001b[0m\u001b[0mdesktop_picture\u001b[0m\u001b[0;34m.\u001b[0m\u001b[0mset\u001b[0m\u001b[0;34m(\u001b[0m\u001b[0mmactypes\u001b[0m\u001b[0;34m.\u001b[0m\u001b[0mFile\u001b[0m\u001b[0;34m(\u001b[0m\u001b[0;34mu'/Users/liko/Desktop/Xwallpaper/[\"xwallpaper.jpg\"]'\u001b[0m\u001b[0;34m)\u001b[0m\u001b[0;34m)\u001b[0m\u001b[0;34m\u001b[0m\u001b[0;34m\u001b[0m\u001b[0m\n\u001b[0m\u001b[1;32m      6\u001b[0m \u001b[0mprint\u001b[0m\u001b[0;34m(\u001b[0m\u001b[0;34m\"ok\"\u001b[0m\u001b[0;34m)\u001b[0m\u001b[0;34m\u001b[0m\u001b[0;34m\u001b[0m\u001b[0m\n",
      "\u001b[0;32m~/anaconda3/lib/python3.7/site-packages/aeosa/appscript/reference.py\u001b[0m in \u001b[0;36m__call__\u001b[0;34m(self, *args, **kargs)\u001b[0m\n\u001b[1;32m    494\u001b[0m                                                 \u001b[0;32mreturn\u001b[0m\u001b[0;34m\u001b[0m\u001b[0;34m\u001b[0m\u001b[0m\n\u001b[1;32m    495\u001b[0m                                         \u001b[0;32mraise\u001b[0m \u001b[0mCommandError\u001b[0m\u001b[0;34m(\u001b[0m\u001b[0mself\u001b[0m\u001b[0;34m,\u001b[0m \u001b[0;34m(\u001b[0m\u001b[0margs\u001b[0m\u001b[0;34m,\u001b[0m \u001b[0mkargs\u001b[0m\u001b[0;34m)\u001b[0m\u001b[0;34m,\u001b[0m \u001b[0me\u001b[0m\u001b[0;34m,\u001b[0m \u001b[0mself\u001b[0m\u001b[0;34m.\u001b[0m\u001b[0mAS_appdata\u001b[0m\u001b[0;34m)\u001b[0m \u001b[0;32mfrom\u001b[0m \u001b[0me\u001b[0m\u001b[0;34m\u001b[0m\u001b[0;34m\u001b[0m\u001b[0m\n\u001b[0;32m--> 496\u001b[0;31m                         \u001b[0;32mraise\u001b[0m \u001b[0mCommandError\u001b[0m\u001b[0;34m(\u001b[0m\u001b[0mself\u001b[0m\u001b[0;34m,\u001b[0m \u001b[0;34m(\u001b[0m\u001b[0margs\u001b[0m\u001b[0;34m,\u001b[0m \u001b[0mkargs\u001b[0m\u001b[0;34m)\u001b[0m\u001b[0;34m,\u001b[0m \u001b[0me\u001b[0m\u001b[0;34m,\u001b[0m \u001b[0mself\u001b[0m\u001b[0;34m.\u001b[0m\u001b[0mAS_appdata\u001b[0m\u001b[0;34m)\u001b[0m \u001b[0;32mfrom\u001b[0m \u001b[0me\u001b[0m\u001b[0;34m\u001b[0m\u001b[0;34m\u001b[0m\u001b[0m\n\u001b[0m\u001b[1;32m    497\u001b[0m \u001b[0;34m\u001b[0m\u001b[0m\n\u001b[1;32m    498\u001b[0m         \u001b[0;32mdef\u001b[0m \u001b[0mAS_formatcommand\u001b[0m\u001b[0;34m(\u001b[0m\u001b[0mself\u001b[0m\u001b[0;34m,\u001b[0m \u001b[0margs\u001b[0m\u001b[0;34m)\u001b[0m\u001b[0;34m:\u001b[0m\u001b[0;34m\u001b[0m\u001b[0;34m\u001b[0m\u001b[0m\n",
      "\u001b[0;31mCommandError\u001b[0m: Command failed:\n\t\tOSERROR: -10000\n\t\tMESSAGE: Apple event handler failed.\n\t\tCOMMAND: app('/System/Library/CoreServices/Finder.app').desktop_picture.set(mactypes.File('/Users/liko/Desktop/Xwallpaper/[\"xwallpaper.jpg\"]'))"
     ]
    }
   ],
   "source": [
    "from appscript import app, mactypes\n",
    "import sys \n",
    "\n",
    "fileName = sys.argv[1]\n",
    "app('Finder').desktop_picture.set(mactypes.File(u'/Users/liko/Desktop/Xwallpaper/[\"xwallpaper.jpg\"]'))\n",
    "print(\"ok\")"
   ]
  },
  {
   "cell_type": "code",
   "execution_count": 314,
   "metadata": {},
   "outputs": [
    {
     "name": "stdout",
     "output_type": "stream",
     "text": [
      "0\n",
      "<os._wrap_close object at 0x1220cb470>\n"
     ]
    }
   ],
   "source": [
    "cmd = \"\"\" osascript -e 'tell application \"Finder\" to set desktop picture to POSIX file \"/Users/liko/Desktop/Xwallpaper/xwallpaper.jpg\"' \"\"\"\n",
    "def trick():\n",
    "    os.system(cmd)\n",
    "trick()\n",
    "print(os.system(cmd))\n",
    "print(os.popen(cmd))"
   ]
  },
  {
   "cell_type": "code",
   "execution_count": null,
   "metadata": {},
   "outputs": [],
   "source": []
  }
 ],
 "metadata": {
  "kernelspec": {
   "display_name": "Python 3",
   "language": "python",
   "name": "python3"
  },
  "language_info": {
   "codemirror_mode": {
    "name": "ipython",
    "version": 3
   },
   "file_extension": ".py",
   "mimetype": "text/x-python",
   "name": "python",
   "nbconvert_exporter": "python",
   "pygments_lexer": "ipython3",
   "version": "3.7.3"
  }
 },
 "nbformat": 4,
 "nbformat_minor": 2
}
