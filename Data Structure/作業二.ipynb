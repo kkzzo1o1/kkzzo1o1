{
 "cells": [
  {
   "cell_type": "code",
   "execution_count": 32,
   "metadata": {},
   "outputs": [],
   "source": [
    "import numpy as np\n",
    "import time\n",
    "import matplotlib.pylab as plt\n",
    "%matplotlib inline"
   ]
  },
  {
   "cell_type": "code",
   "execution_count": 33,
   "metadata": {},
   "outputs": [],
   "source": [
    "def uniformly_randomly(n):\n",
    "    randomly_array = np.array(np.random.randint(1, 1001, n))\n",
    "    return randomly_array"
   ]
  },
  {
   "cell_type": "code",
   "execution_count": 34,
   "metadata": {},
   "outputs": [],
   "source": [
    "def almost_sorted(n):\n",
    "    arr = np.arange(1, n, 1)\n",
    "    for _ in range(100):\n",
    "        arr[np.random.randint(0, n-1)] = np.random.randint(1, 1001)\n",
    "    return(arr)"
   ]
  },
  {
   "cell_type": "code",
   "execution_count": 35,
   "metadata": {},
   "outputs": [],
   "source": [
    "def insertionsort(arr):\n",
    "    Time_start = time.time()\n",
    "    \n",
    "    for i in range(1, len(arr)):\n",
    "        buffer = arr[i]\n",
    "        j = i - 1\n",
    "        while(j >= 0 and buffer < arr[j]):\n",
    "            arr[j+1] = arr[j]\n",
    "            j -= 1\n",
    "        arr[j+1] = buffer\n",
    "    Time_end = time.time()\n",
    "    return Time_end - Time_start                 "
   ]
  },
  {
   "cell_type": "code",
   "execution_count": 36,
   "metadata": {},
   "outputs": [],
   "source": [
    "# Python program for implementation of MergeSort \n",
    "def mergesort(arr): \n",
    "    Time_start = time.time()\n",
    "\n",
    "    if len(arr) >1: \n",
    "        mid = len(arr)//2 #Finding the mid of the array \n",
    "        L = arr[:mid] # Dividing the array elements  \n",
    "        R = arr[mid:] # into 2 halves \n",
    "        \n",
    "        mergesort(L) # Sorting the first half \n",
    "        mergesort(R) # Sorting the second half \n",
    "        \n",
    "        i = j = k = 0\n",
    "          \n",
    "        # Copy data to temp arrays L[] and R[] \n",
    "        while i < len(L) and j < len(R): \n",
    "            if L[i] < R[j]: \n",
    "                arr[k] = L[i] \n",
    "                i+=1\n",
    "            else: \n",
    "                arr[k] = R[j] \n",
    "                j+=1\n",
    "            k+=1\n",
    "            \n",
    "        # Checking if any element was left \n",
    "        while i < len(L): \n",
    "            arr[k] = L[i] \n",
    "            i+=1\n",
    "            k+=1\n",
    "        \n",
    "        while j < len(R): \n",
    "            arr[k] = R[j] \n",
    "            j+=1\n",
    "            k+=1\n",
    "# This code is contributed by Mayank Khanna \n",
    "    Time_end = time.time()\n",
    "    return Time_end - Time_start   "
   ]
  },
  {
   "cell_type": "code",
   "execution_count": 37,
   "metadata": {},
   "outputs": [],
   "source": [
    "# Python implementation QuickSort using  \n",
    "# Hoare's partition Scheme. \n",
    "  \n",
    "import random \n",
    "  \n",
    "''' \n",
    "The function which implements randomised QuickSort, \n",
    "using Haore's partition scheme. \n",
    "arr :- array to be sorted. \n",
    "start :- starting index of the array. \n",
    "stop :- ending index of the array. \n",
    "'''\n",
    "def quicksort(arr, start, stop):\n",
    "    Time_start = time.time()\n",
    "    \n",
    "    if(start < stop): \n",
    "          \n",
    "        # pivotindex is the index where \n",
    "        # the pivot lies in the array \n",
    "        pivotindex = partitionrand(arr, start, stop) \n",
    "          \n",
    "        # At this stage the array is partially sorted  \n",
    "        # around the pivot. separately sorting the  \n",
    "        # left half of the array and the right half of the array. \n",
    "        quicksort(arr , start , pivotindex) \n",
    "        quicksort(arr, pivotindex + 1, stop) \n",
    "        \n",
    "    Time_end = time.time()\n",
    "    return Time_end - Time_start   \n",
    "# This function generates random pivot, swaps the first \n",
    "# element with the pivot and calls the partition function. \n",
    "def partitionrand(arr , start, stop): \n",
    "    \n",
    "    # Generating a random number between  \n",
    "    # the starting index of the array and  \n",
    "    # the ending index of the array. \n",
    "    randpivot = random.randrange(start, stop) \n",
    "    \n",
    "    # Swapping the starting element of  \n",
    "    # the array and the pivot \n",
    "    arr[start], arr[randpivot] = arr[randpivot], arr[start] \n",
    "    return partition(arr, start, stop) \n",
    "  \n",
    "''' \n",
    "This function takes the first element as pivot,  \n",
    "places the pivot element at the correct position  \n",
    "in the sorted array. All the elements are re-arranged  \n",
    "according to the pivot, the elements smaller than  \n",
    "the pivot is places on the left and the elements \n",
    "greater than the pivot is placed to the right of pivot. \n",
    "'''\n",
    "def partition(arr,start,stop): \n",
    "    pivot = start # pivot \n",
    "    i = start - 1\n",
    "    j = stop + 1\n",
    "    while True: \n",
    "        while True: \n",
    "            i = i + 1\n",
    "            if arr[i] >= arr[pivot]: \n",
    "                break\n",
    "        while True: \n",
    "            j = j - 1\n",
    "            if arr[j] <= arr[pivot]: \n",
    "                break\n",
    "        if i >= j: \n",
    "            return j \n",
    "        arr[i] , arr[j] = arr[j] , arr[i] \n",
    "        \n",
    "        \n",
    "\n",
    "# This code is contributed by soumyasaurav "
   ]
  },
  {
   "cell_type": "code",
   "execution_count": 38,
   "metadata": {},
   "outputs": [],
   "source": [
    "def countingsort(the_list, max_value):\n",
    "    Time_start = time.time()\n",
    "    \n",
    "    # Count the number of times each value appears.\n",
    "    # counts[0] stores the number of 0's in the input\n",
    "    # counts[4] stores the number of 4's in the input\n",
    "    # etc.\n",
    "    counts = [0] * (max_value + 1)\n",
    "    for item in the_list:\n",
    "        counts[item] += 1\n",
    "\n",
    "    # Overwrite counts to hold the next index an item with\n",
    "    # a given value goes. So, counts[4] will now store the index\n",
    "    # where the next 4 goes, not the number of 4's our\n",
    "    # list has.\n",
    "    num_items_before = 0\n",
    "    for i, count in enumerate(counts):\n",
    "        counts[i] = num_items_before\n",
    "        num_items_before += count\n",
    "\n",
    "    # Output list to be filled in\n",
    "    sorted_list = [None] * len(the_list)\n",
    "\n",
    "    # Run through the input list\n",
    "    for item in the_list:\n",
    "        \n",
    "        # Place the item in the sorted list\n",
    "        sorted_list[ counts[item] ] = item\n",
    "\n",
    "        # And, make sure the next item we see with the same value\n",
    "        # goes after the one we just placed\n",
    "        counts[item] += 1\n",
    "\n",
    "    Time_end = time.time()\n",
    "    return Time_end - Time_start  "
   ]
  },
  {
   "cell_type": "code",
   "execution_count": 39,
   "metadata": {},
   "outputs": [],
   "source": [
    "# Python program for implementation of heap Sort \n",
    "\n",
    "# To heapify subtree rooted at index i. \n",
    "# n is size of heap \n",
    "def heapify(arr, n, i): \n",
    "    largest = i # Initialize largest as root \n",
    "    l = 2 * i + 1    # left = 2*i + 1 \n",
    "    r = 2 * i + 2    # right = 2*i + 2 \n",
    "\n",
    "    # See if left child of root exists and is \n",
    "    # greater than root \n",
    "    if l < n and arr[i] < arr[l]: \n",
    "        largest = l \n",
    "\n",
    "    # See if right child of root exists and is \n",
    "    # greater than root \n",
    "    if r < n and arr[largest] < arr[r]: \n",
    "        largest = r \n",
    "\n",
    "    # Change root, if needed \n",
    "    if largest != i: \n",
    "        arr[i],arr[largest] = arr[largest],arr[i] # swap \n",
    "\n",
    "        # Heapify the root. \n",
    "        heapify(arr, n, largest) \n",
    "\n",
    "# The main function to sort an array of given size \n",
    "def heapsort(arr): \n",
    "    Time_start = time.time()\n",
    "    \n",
    "    n = len(arr) \n",
    "\n",
    "    # Build a maxheap. \n",
    "    for i in range(n, -1, -1): \n",
    "        heapify(arr, n, i) \n",
    "\n",
    "    # One by one extract elements \n",
    "    for i in range(n-1, 0, -1): \n",
    "        arr[i], arr[0] = arr[0], arr[i] # swap \n",
    "        heapify(arr, i, 0) \n",
    "    Time_end = time.time()\n",
    "    return Time_end - Time_start   \n",
    "\n",
    "# This code is contributed by Mohit Kumra "
   ]
  },
  {
   "cell_type": "code",
   "execution_count": null,
   "metadata": {},
   "outputs": [],
   "source": []
  },
  {
   "cell_type": "code",
   "execution_count": 54,
   "metadata": {},
   "outputs": [],
   "source": [
    "IS_average_time = []\n",
    "for i in range(10, 16):\n",
    "    IS_elapsed_time = 0\n",
    "    for _ in range(10):\n",
    "        input_array = uniformly_randomly(2**i)\n",
    "        IS_elapsed_time += insertionsort(input_array)\n",
    "    IS_average_time.append(IS_elapsed_time / 10)"
   ]
  },
  {
   "cell_type": "code",
   "execution_count": 55,
   "metadata": {},
   "outputs": [],
   "source": [
    "MS_average_time = []\n",
    "for i in range(10, 16):\n",
    "    MS_elapsed_time = 0\n",
    "    for _ in range(10):\n",
    "        input_array = uniformly_randomly(2**i)\n",
    "        MS_elapsed_time += mergesort(input_array)\n",
    "    MS_average_time.append(MS_elapsed_time / 10)"
   ]
  },
  {
   "cell_type": "code",
   "execution_count": 56,
   "metadata": {},
   "outputs": [],
   "source": [
    "RQS_average_time = []\n",
    "for i in range(10, 16):\n",
    "    RQS_elapsed_time = 0\n",
    "    for _ in range(10):\n",
    "        input_array = uniformly_randomly(2**i)\n",
    "        RQS_elapsed_time += quicksort(input_array, 0, len(input_array)-1)\n",
    "    RQS_average_time.append(RQS_elapsed_time / 10)"
   ]
  },
  {
   "cell_type": "code",
   "execution_count": 57,
   "metadata": {},
   "outputs": [],
   "source": [
    "CS_average_time = []\n",
    "for i in range(10, 16):\n",
    "    CS_elapsed_time = 0\n",
    "    for _ in range(10):\n",
    "        input_array = uniformly_randomly(2**i)\n",
    "        CS_elapsed_time += countingsort(input_array, np.max(input_array))\n",
    "    CS_average_time.append(CS_elapsed_time / 10)"
   ]
  },
  {
   "cell_type": "code",
   "execution_count": 58,
   "metadata": {},
   "outputs": [],
   "source": [
    "HS_average_time = []\n",
    "for i in range(10, 16):\n",
    "    HS_elapsed_time = 0\n",
    "    for _ in range(10):\n",
    "        input_array = uniformly_randomly(2**i)\n",
    "        HS_elapsed_time += heapsort(input_array)\n",
    "    HS_average_time.append(HS_elapsed_time / 10)"
   ]
  },
  {
   "cell_type": "code",
   "execution_count": 59,
   "metadata": {
    "scrolled": true
   },
   "outputs": [
    {
     "data": {
      "text/plain": [
       "<matplotlib.legend.Legend at 0x11aba5d68>"
      ]
     },
     "execution_count": 59,
     "metadata": {},
     "output_type": "execute_result"
    },
    {
     "data": {
      "image/png": "[encoded data removed]",
      "text/plain": [
       "<Figure size 432x288 with 1 Axes>"
      ]
     },
     "metadata": {
      "needs_background": "light"
     },
     "output_type": "display_data"
    }
   ],
   "source": [
    "fig = plt.figure()\n",
    "x = np.linspace(10, 16, 6)\n",
    "plt.plot(x, IS_average_time, label = 'insertion sort')\n",
    "plt.plot(x, MS_average_time, label = 'merge sort')\n",
    "plt.plot(x, RQS_average_time, label = 'randomized quick sort')\n",
    "plt.plot(x, CS_average_time, label = 'counting sort')\n",
    "plt.plot(x, HS_average_time, label = 'heap sort')\n",
    "plt.title('Uniformly Randomly')\n",
    "plt.xlabel('2^x')\n",
    "plt.legend()"
   ]
  },
  {
   "cell_type": "code",
   "execution_count": null,
   "metadata": {},
   "outputs": [],
   "source": []
  },
  {
   "cell_type": "code",
   "execution_count": 81,
   "metadata": {},
   "outputs": [],
   "source": [
    "IS_average_time = []\n",
    "for i in range(10, 20):\n",
    "    IS_elapsed_time = 0\n",
    "    for _ in range(10):\n",
    "        input_array = almost_sorted(2**i)\n",
    "        IS_elapsed_time += insertionsort(input_array)\n",
    "    IS_average_time.append(IS_elapsed_time / 10)"
   ]
  },
  {
   "cell_type": "code",
   "execution_count": 82,
   "metadata": {},
   "outputs": [],
   "source": [
    "MS_average_time = []\n",
    "for i in range(10, 20):\n",
    "    MS_elapsed_time = 0\n",
    "    for _ in range(10):\n",
    "        input_array = almost_sorted(2**i)\n",
    "        MS_elapsed_time += mergesort(input_array)\n",
    "    MS_average_time.append(MS_elapsed_time / 10)"
   ]
  },
  {
   "cell_type": "code",
   "execution_count": 83,
   "metadata": {},
   "outputs": [],
   "source": [
    "RQS_average_time = []\n",
    "for i in range(10, 20):\n",
    "    RQS_elapsed_time = 0\n",
    "    for _ in range(10):\n",
    "        input_array = almost_sorted(2**i)\n",
    "        RQS_elapsed_time += quicksort(input_array, 0, len(input_array)-1)\n",
    "    RQS_average_time.append(RQS_elapsed_time / 10)"
   ]
  },
  {
   "cell_type": "code",
   "execution_count": null,
   "metadata": {},
   "outputs": [],
   "source": [
    "CS_average_time = []\n",
    "for i in range(10, 30):\n",
    "    CS_elapsed_time = 0\n",
    "    for _ in range(10):\n",
    "        input_array = almost_sorted(2**i)\n",
    "        CS_elapsed_time += countingsort(input_array, np.max(input_array))\n",
    "    CS_average_time.append(CS_elapsed_time / 10)"
   ]
  },
  {
   "cell_type": "code",
   "execution_count": 84,
   "metadata": {},
   "outputs": [],
   "source": [
    "HS_average_time = []\n",
    "for i in range(10, 20):\n",
    "    HS_elapsed_time = 0\n",
    "    for _ in range(10):\n",
    "        input_array = almost_sorted(2**i)\n",
    "        HS_elapsed_time += heapsort(input_array)\n",
    "    HS_average_time.append(HS_elapsed_time / 10)"
   ]
  },
  {
   "cell_type": "code",
   "execution_count": 85,
   "metadata": {},
   "outputs": [
    {
     "data": {
      "text/plain": [
       "<matplotlib.legend.Legend at 0x11d625a20>"
      ]
     },
     "execution_count": 85,
     "metadata": {},
     "output_type": "execute_result"
    },
    {
     "data": {
      "image/png": "[encoded data removed]",
      "text/plain": [
       "<Figure size 432x288 with 1 Axes>"
      ]
     },
     "metadata": {
      "needs_background": "light"
     },
     "output_type": "display_data"
    }
   ],
   "source": [
    "fig = plt.figure()\n",
    "x = np.linspace(10, 20, 10)\n",
    "plt.plot(x, IS_average_time, label = 'insertion sort')\n",
    "plt.plot(x, MS_average_time, label = 'merge sort')\n",
    "plt.plot(x, RQS_average_time, label = 'randomized quick sort')\n",
    "plt.plot(x, CS_average_time, label = 'counting sort')\n",
    "plt.plot(x, HS_average_time, label = 'heap sort')\n",
    "plt.title('Almost Sorted')\n",
    "plt.xlabel('2^x')\n",
    "plt.legend()"
   ]
  },
  {
   "cell_type": "markdown",
   "metadata": {},
   "source": [
    "# insertion sort 程式碼來源 https://www.geeksforgeeks.org/python-program-for-insertion-sort/\n",
    "# merge sort 程式碼來源https://www.geeksforgeeks.org/merge-sort/\n",
    "# randomized quick sort 程式碼來源 https://www.geeksforgeeks.org/quicksort-using-random-pivoting/\n",
    "# counting sort 程式碼來源 https://www.geeksforgeeks.org/counting-sort/\n",
    "# heap sort 程式碼來源 https://www.geeksforgeeks.org/python-program-for-heap-sort/"
   ]
  },
  {
   "cell_type": "markdown",
   "metadata": {},
   "source": [
    "# 作業系統 mac os Catalina 版本 10.15.3\n",
    "# CPU型號 2.8 GHz 四核心Intel Core i7\n",
    "# RAM 16G"
   ]
  }
 ],
 "metadata": {
  "kernelspec": {
   "display_name": "Python 3",
   "language": "python",
   "name": "python3"
  },
  "language_info": {
   "codemirror_mode": {
    "name": "ipython",
    "version": 3
   },
   "file_extension": ".py",
   "mimetype": "text/x-python",
   "name": "python",
   "nbconvert_exporter": "python",
   "pygments_lexer": "ipython3",
   "version": "3.7.3"
  }
 },
 "nbformat": 4,
 "nbformat_minor": 4
}
