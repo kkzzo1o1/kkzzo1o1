{
 "cells": [
  {
   "cell_type": "code",
   "execution_count": 17,
   "metadata": {},
   "outputs": [],
   "source": [
    "import time\n",
    "import numpy as np\n",
    "import matplotlib.pylab as plt\n",
    "%matplotlib inline"
   ]
  },
  {
   "cell_type": "code",
   "execution_count": 119,
   "metadata": {},
   "outputs": [
    {
     "name": "stdout",
     "output_type": "stream",
     "text": [
      "[[  1   1]\n",
      " [  1   2]\n",
      " [  1   3]\n",
      " ...\n",
      " [100  98]\n",
      " [100  99]\n",
      " [100 100]]\n",
      "[[  1   1]\n",
      " [  1   2]\n",
      " [  1   3]\n",
      " ...\n",
      " [200 198]\n",
      " [200 199]\n",
      " [200 200]]\n",
      "[[  1   1]\n",
      " [  1   2]\n",
      " [  1   3]\n",
      " ...\n",
      " [300 298]\n",
      " [300 299]\n",
      " [300 300]]\n",
      "[[  1   1]\n",
      " [  1   2]\n",
      " [  1   3]\n",
      " ...\n",
      " [400 398]\n",
      " [400 399]\n",
      " [400 400]]\n",
      "[[  1   1]\n",
      " [  1   2]\n",
      " [  1   3]\n",
      " ...\n",
      " [500 498]\n",
      " [500 499]\n",
      " [500 500]]\n",
      "[[  1   1]\n",
      " [  1   2]\n",
      " [  1   3]\n",
      " ...\n",
      " [600 598]\n",
      " [600 599]\n",
      " [600 600]]\n",
      "[[  1   1]\n",
      " [  1   2]\n",
      " [  1   3]\n",
      " ...\n",
      " [700 698]\n",
      " [700 699]\n",
      " [700 700]]\n",
      "[[  1   1]\n",
      " [  1   2]\n",
      " [  1   3]\n",
      " ...\n",
      " [800 798]\n",
      " [800 799]\n",
      " [800 800]]\n",
      "[[  1   1]\n",
      " [  1   2]\n",
      " [  1   3]\n",
      " ...\n",
      " [900 898]\n",
      " [900 899]\n",
      " [900 900]]\n",
      "[[   1    1]\n",
      " [   1    2]\n",
      " [   1    3]\n",
      " ...\n",
      " [1000  998]\n",
      " [1000  999]\n",
      " [1000 1000]]\n"
     ]
    }
   ],
   "source": [
    "elapsed_time = []\n",
    "for t in range(100, 1001, 100):\n",
    "    Time_start = time.time()\n",
    "    x = np.arange(1, t+1).reshape(t, 1)\n",
    "    y = np.arange(1, t+1)\n",
    "    print(np.c_[np.repeat(x, t),np.tile(y, (1,t)).reshape(t*t,1 )])\n",
    "    Time_end = time.time()\n",
    "    elapsed_time.append(Time_end - Time_start)"
   ]
  },
  {
   "cell_type": "code",
   "execution_count": 122,
   "metadata": {},
   "outputs": [
    {
     "data": {
      "image/png": "[encoded data removed]",
      "text/plain": [
       "<Figure size 432x288 with 1 Axes>"
      ]
     },
     "metadata": {
      "needs_background": "light"
     },
     "output_type": "display_data"
    }
   ],
   "source": [
    "x = list(range(100, 1001, 100))\n",
    "plt.scatter(x , elapsed_time, color = 'r') \n",
    "plt.show()"
   ]
  },
  {
   "cell_type": "markdown",
   "metadata": {},
   "source": [
    "# 參考資料來源：https://www.itdaan.com/tw/ca11404e5923a585200d66ff36be6339\n",
    "# 作業系統 mac os Catalina 版本 10.15.3\n",
    "# CPU型號 2.8 GHz 四核心Intel Core i7\n",
    "# RAM 16G"
   ]
  },
  {
   "cell_type": "code",
   "execution_count": null,
   "metadata": {},
   "outputs": [],
   "source": []
  }
 ],
 "metadata": {
  "kernelspec": {
   "display_name": "Python 3",
   "language": "python",
   "name": "python3"
  }
 },
 "nbformat": 4,
 "nbformat_minor": 2
}
