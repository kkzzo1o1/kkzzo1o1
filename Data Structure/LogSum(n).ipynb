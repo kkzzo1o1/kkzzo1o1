{
 "cells": [
  {
   "cell_type": "code",
   "execution_count": 1,
   "metadata": {},
   "outputs": [],
   "source": [
    "import math\n",
    "import time\n",
    "import matplotlib.pylab as plt\n",
    "%matplotlib inline"
   ]
  },
  {
   "cell_type": "code",
   "execution_count": 8,
   "metadata": {},
   "outputs": [
    {
     "name": "stdout",
     "output_type": "stream",
     "text": [
      "65657059.08005966\n",
      "137334714.32481015\n",
      "211284807.32214725\n",
      "286710624.57710934\n",
      "363233780.370178\n",
      "440631410.396971\n",
      "518756253.38941634\n",
      "597503644.7577342\n",
      "676795326.8544519\n",
      "756570556.2087342\n"
     ]
    },
    {
     "data": {
      "image/png": "[encoded data removed]",
      "text/plain": [
       "<Figure size 432x288 with 1 Axes>"
      ]
     },
     "metadata": {
      "needs_background": "light"
     },
     "output_type": "display_data"
    }
   ],
   "source": [
    "for i in range(1,11):\n",
    "    Time_start = time.time()\n",
    "    ans = 0\n",
    "    for j in range(i*10**7):       \n",
    "        ans += math.log10(j+1)\n",
    "    print(ans)\n",
    "    Time_end = time.time()\n",
    "    plt.scatter(i*10**7, Time_end - Time_start, color = 'r')  \n",
    "plt.show()"
   ]
  },
  {
   "cell_type": "markdown",
   "metadata": {},
   "source": [
    "# 參考資料來源：自己\n",
    "# 作業系統 mac os Catalina 版本 10.15.3\n",
    "# CPU型號 2.8 GHz 四核心Intel Core i7\n",
    "# RAM 16G"
   ]
  },
  {
   "cell_type": "code",
   "execution_count": null,
   "metadata": {},
   "outputs": [],
   "source": []
  }
 ],
 "metadata": {
  "kernelspec": {
   "display_name": "Python 3",
   "language": "python",
   "name": "python3"
  },
  "language_info": {
   "codemirror_mode": {
    "name": "ipython",
    "version": 3
   },
   "file_extension": ".py",
   "mimetype": "text/x-python",
   "name": "python",
   "nbconvert_exporter": "python",
   "pygments_lexer": "ipython3",
   "version": "3.7.3"
  }
 },
 "nbformat": 4,
 "nbformat_minor": 2
}
