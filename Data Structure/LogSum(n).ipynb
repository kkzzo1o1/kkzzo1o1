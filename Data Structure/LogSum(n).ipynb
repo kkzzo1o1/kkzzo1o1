{
 "cells": [
  {
   "cell_type": "code",
   "execution_count": 4,
   "metadata": {},
   "outputs": [],
   "source": [
    "import math\n",
    "import time\n",
    "import matplotlib.pylab as plt\n",
    "%matplotlib inline"
   ]
  },
  {
   "cell_type": "code",
   "execution_count": 13,
   "metadata": {},
   "outputs": [
    {
     "name": "stdout",
     "output_type": "stream",
     "text": [
      "317428049162266.44\n",
      "1329917937213123.5\n",
      "3071556223881376.5\n",
      "5560495204164670.0\n",
      "8809411098274541.0\n",
      "1.2828078054760536e+16\n",
      "1.7624459042490554e+16\n",
      "2.3205275672174604e+16\n",
      "2.9576344575177016e+16\n"
     ]
    },
    {
     "data": {
      "image/png": "[encoded data removed]",
      "text/plain": [
       "<Figure size 432x288 with 1 Axes>"
      ]
     },
     "metadata": {
      "needs_background": "light"
     },
     "output_type": "display_data"
    }
   ],
   "source": [
    "ans = 0\n",
    "x = 0\n",
    "sumu = 0\n",
    "plt.ylim(0, 0.0005)\n",
    "for i in range(10 * 10 ** 7):\n",
    "    Time_start = time.time()\n",
    "    ans += math.log10(i + 1)\n",
    "    sumu += ans\n",
    "    if(i % 10 ** 7 == 0 and sumu != 0):\n",
    "        print(sumu)\n",
    "        x = x + 1\n",
    "        Time_end = time.time()\n",
    "        plt.scatter(x, Time_end - Time_start, color = 'r')  \n",
    "plt.show()"
   ]
  },
  {
   "cell_type": "markdown",
   "metadata": {},
   "source": [
    "# 參考資料來源：自己\n",
    "# 作業系統 mac os Catalina 版本 10.15.3\n",
    "# CPU型號 2.8 GHz 四核心Intel Core i7\n",
    "# RAM 16G"
   ]
  },
  {
   "cell_type": "code",
   "execution_count": null,
   "metadata": {},
   "outputs": [],
   "source": []
  }
 ],
 "metadata": {
  "kernelspec": {
   "display_name": "Python 3",
   "language": "python",
   "name": "python3"
  },
  "language_info": {
   "codemirror_mode": {
    "name": "ipython",
    "version": 3
   },
   "file_extension": ".py",
   "mimetype": "text/x-python",
   "name": "python",
   "nbconvert_exporter": "python",
   "pygments_lexer": "ipython3",
   "version": "3.7.3"
  }
 },
 "nbformat": 4,
 "nbformat_minor": 2
}
