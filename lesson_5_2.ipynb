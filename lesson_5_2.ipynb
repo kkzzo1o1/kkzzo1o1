{
 "cells": [
  {
   "cell_type": "code",
   "execution_count": 1,
   "metadata": {},
   "outputs": [],
   "source": [
    "from ipyturtle import Turtle\n",
    "t = Turtle()"
   ]
  },
  {
   "cell_type": "code",
   "execution_count": 8,
   "metadata": {},
   "outputs": [],
   "source": [
    "for x in range(250):\n",
    "    if x%2 == 0:\n",
    "        t.pencolor(\"white\")\n",
    "    elif x <= 50:\n",
    "        t.pencolor(\"blue\")\n",
    "    elif 50 < x  <= 100:\n",
    "        t.pencolor(\"red\")\n",
    "    elif 100 < x <= 150:\n",
    "        t.pencolor(\"green\")\n",
    "    elif 100 < x <= 150:\n",
    "        t.pencolor(\"orange\")\n",
    "    elif 150 < x <= 200:\n",
    "        t.pencolor(\"yellow\")\n",
    "    elif 200 < x <= 250:\n",
    "        t.pencolor(\"indigo\")\n",
    "\n",
    "    t.forward(x)\n",
    "    t.left(90)"
   ]
  },
  {
   "cell_type": "code",
   "execution_count": 7,
   "metadata": {},
   "outputs": [],
   "source": [
    "t.reset()"
   ]
  },
  {
   "cell_type": "code",
   "execution_count": 4,
   "metadata": {},
   "outputs": [
    {
     "data": {
      "application/vnd.jupyter.widget-view+json": {
       "model_id": "fcadbc7bdf2a4133a6d44d4b5bf1bc2d",
       "version_major": 2,
       "version_minor": 0
      },
      "text/plain": [
       "Turtle()"
      ]
     },
     "metadata": {},
     "output_type": "display_data"
    }
   ],
   "source": [
    "t"
   ]
  },
  {
   "cell_type": "code",
   "execution_count": null,
   "metadata": {},
   "outputs": [],
   "source": []
  }
 ],
 "metadata": {
  "kernelspec": {
   "display_name": "Python 3",
   "language": "python",
   "name": "python3"
  },
  "language_info": {
   "codemirror_mode": {
    "name": "ipython",
    "version": 3
   },
   "file_extension": ".py",
   "mimetype": "text/x-python",
   "name": "python",
   "nbconvert_exporter": "python",
   "pygments_lexer": "ipython3",
   "version": "3.7.3"
  }
 },
 "nbformat": 4,
 "nbformat_minor": 2
}
