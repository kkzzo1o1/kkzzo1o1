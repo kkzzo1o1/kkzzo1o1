{
 "cells": [
  {
   "cell_type": "code",
   "execution_count": 6,
   "metadata": {},
   "outputs": [
    {
     "name": "stdout",
     "output_type": "stream",
     "text": [
      "6\n",
      "3 2\n",
      "3 2 1\n",
      "1 2\n",
      "YES\n",
      "4 2\n",
      "4 1 2 3\n",
      "3 2\n",
      "NO\n",
      "5 1\n",
      "1 2 3 4 5\n",
      "1\n",
      "YES\n",
      "4 2\n",
      "2 1 4 3\n",
      "1 3\n",
      "YES\n",
      "4 2\n",
      "4 3 2 1\n",
      "1 3\n",
      "NO\n",
      "5 2\n",
      "2 1 2 3 3\n",
      "1 4\n",
      "YES\n"
     ]
    }
   ],
   "source": [
    " for _ in range(int(input())):\n",
    "    n, m = map(int, input().split())\n",
    "    a = list(map(int, input().split()))\n",
    "    p = set(map(int, input().split()))\n",
    "    for _ in range(n):\n",
    "        for i in range(n - 1):\n",
    "            if (a[i] > a[i + 1]) and i + 1 in set(p):\n",
    "                 a[i], a[i + 1] = a[i + 1], a[i]\n",
    "                \n",
    "    flag = 0\n",
    "    for j in range(n - 1):\n",
    "        if (a[j] > a[j + 1]) and j + 1 not in set(p):\n",
    "            print(\"NO\")\n",
    "            flag = 1\n",
    "            break\n",
    "    if(flag == 0):\n",
    "        print(\"YES\")"
   ]
  },
  {
   "cell_type": "code",
   "execution_count": null,
   "metadata": {},
   "outputs": [],
   "source": []
  }
 ],
 "metadata": {
  "kernelspec": {
   "display_name": "Python 3",
   "language": "python",
   "name": "python3"
  },
  "language_info": {
   "codemirror_mode": {
    "name": "ipython",
    "version": 3
   },
   "file_extension": ".py",
   "mimetype": "text/x-python",
   "name": "python",
   "nbconvert_exporter": "python",
   "pygments_lexer": "ipython3",
   "version": "3.7.3"
  }
 },
 "nbformat": 4,
 "nbformat_minor": 2
}
