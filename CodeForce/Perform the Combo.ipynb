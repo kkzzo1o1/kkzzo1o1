{
 "cells": [
  {
   "cell_type": "code",
   "execution_count": 49,
   "metadata": {},
   "outputs": [
    {
     "name": "stdout",
     "output_type": "stream",
     "text": [
      "3\n",
      "4 2\n",
      "abca\n",
      "1 3\n",
      "4 2 2 0 0 0 0 0 0 0 0 0 0 0 0 0 0 0 0 0 0 0 0 0 0 0\n",
      "10 5\n",
      "codeforces\n",
      "2 8 3 2 9\n",
      "0 0 9 4 5 3 0 0 0 0 0 0 0 0 9 0 0 3 1 0 0 0 0 0 0 0\n",
      "26 10\n",
      "qwertyuioplkjhgfdsazxcvbnm\n",
      "20 10 1 2 3 5 10 5 9 4\n",
      "2 1 1 2 9 2 2 2 5 2 2 2 1 1 5 4 11 8 2 7 5 1 10 1 5 2\n"
     ]
    }
   ],
   "source": [
    "for _ in range((int(input()))):\n",
    "    n, m = map(int, input().split())\n",
    "    s = input()\n",
    "    d = [0 for _ in range(n)]\n",
    "    c = [0 for _ in range(26)]\n",
    "    \n",
    "    d[n-1] = 1\n",
    "    \n",
    "    for i in map(int, input().split()):\n",
    "        d[i-1] += 1\n",
    "    for i in range(n - 1, 0, -1):\n",
    "        d[i - 1] += d[i]\n",
    "        \n",
    "    for k in range(n):\n",
    "        c[ord(s[k]) - 97] += d[k]\n",
    "    print(*c)"
   ]
  },
  {
   "cell_type": "markdown",
   "metadata": {},
   "source": [
    "# https://codeforces.com/contest/1311/problem/C"
   ]
  },
  {
   "cell_type": "code",
   "execution_count": null,
   "metadata": {},
   "outputs": [],
   "source": []
  }
 ],
 "metadata": {
  "kernelspec": {
   "display_name": "Python 3",
   "language": "python",
   "name": "python3"
  },
  "language_info": {
   "codemirror_mode": {
    "name": "ipython",
    "version": 3
   },
   "file_extension": ".py",
   "mimetype": "text/x-python",
   "name": "python",
   "nbconvert_exporter": "python",
   "pygments_lexer": "ipython3",
   "version": "3.7.3"
  }
 },
 "nbformat": 4,
 "nbformat_minor": 2
}
