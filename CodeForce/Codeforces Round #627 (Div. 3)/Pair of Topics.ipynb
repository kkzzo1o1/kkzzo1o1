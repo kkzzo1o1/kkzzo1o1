{
 "cells": [
  {
   "cell_type": "code",
   "execution_count": 8,
   "metadata": {},
   "outputs": [
    {
     "name": "stdout",
     "output_type": "stream",
     "text": [
      "5\n",
      "4 8 2 6 2\n",
      "4 5 4 1 3\n",
      "7\n"
     ]
    }
   ],
   "source": [
    "n = int(input())\n",
    "a = list(map(int, input().split()))\n",
    "b = list(map(int, input().split()))\n",
    "count = 0\n",
    "    \n",
    "sub = [a[i] - b[i] for i in range(n)]\n",
    "sub.sort(reverse=True)\n",
    "\n",
    "r = n - 1\n",
    " \n",
    "for j in range(n):\n",
    "    if sub[j] <= 0:\n",
    "            break\n",
    "    while sub[j] + sub[r] <= 0:\n",
    "            r -= 1\n",
    "            \n",
    "    count += (r - j)\n",
    "\n",
    "print(count)"
   ]
  },
  {
   "cell_type": "markdown",
   "metadata": {},
   "source": [
    "#  從a與b主題各選一個，組成好評價的一對演論主題，並計算個數。\n",
    "## 好評價意思為 𝑎𝑖+𝑎𝑗>𝑏𝑖+𝑏𝑗 \n",
    "\n",
    "# https://codeforces.com/contest/1324/problem/D"
   ]
  },
  {
   "cell_type": "code",
   "execution_count": null,
   "metadata": {},
   "outputs": [],
   "source": []
  }
 ],
 "metadata": {
  "kernelspec": {
   "display_name": "Python 3",
   "language": "python",
   "name": "python3"
  },
  "language_info": {
   "codemirror_mode": {
    "name": "ipython",
    "version": 3
   },
   "file_extension": ".py",
   "mimetype": "text/x-python",
   "name": "python",
   "nbconvert_exporter": "python",
   "pygments_lexer": "ipython3",
   "version": "3.7.3"
  }
 },
 "nbformat": 4,
 "nbformat_minor": 2
}
