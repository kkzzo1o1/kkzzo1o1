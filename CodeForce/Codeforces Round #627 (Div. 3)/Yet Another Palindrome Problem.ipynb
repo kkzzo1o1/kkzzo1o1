{
 "cells": [
  {
   "cell_type": "code",
   "execution_count": 32,
   "metadata": {},
   "outputs": [
    {
     "name": "stdout",
     "output_type": "stream",
     "text": [
      "5\n",
      "3\n",
      "1 2 1\n",
      "Yes\n",
      "5\n",
      "1 2 2 3 2\n",
      "Yes\n",
      "3\n",
      "1 1 2\n",
      "No\n",
      "4\n",
      "1 2 2 1\n",
      "Yes\n",
      "10\n",
      "1 1 2 2 3 3 4 4 5 5\n",
      "No\n"
     ]
    }
   ],
   "source": [
    "for _ in range(int(input())):\n",
    "    n = int(input())\n",
    "    a = list(map(int, input().split()))\n",
    "    flag = 0\n",
    "    for i in range(n-1):\n",
    "        if(a[i] in a[i+2:]):\n",
    "            flag += 1\n",
    "    if(flag >= 1):\n",
    "        print(\"Yes\")\n",
    "    else:\n",
    "        print(\"No\")"
   ]
  },
  {
   "cell_type": "markdown",
   "metadata": {},
   "source": [
    "# 檢測a串列是否能有長度為3以上的回文副串列 \n",
    "## 副串列=可任取幾個元素來形成新串列但元素的順序不能改變\n",
    "# https://codeforces.com/contest/1324/problem/B"
   ]
  },
  {
   "cell_type": "code",
   "execution_count": null,
   "metadata": {},
   "outputs": [],
   "source": []
  }
 ],
 "metadata": {
  "kernelspec": {
   "display_name": "Python 3",
   "language": "python",
   "name": "python3"
  },
  "language_info": {
   "codemirror_mode": {
    "name": "ipython",
    "version": 3
   },
   "file_extension": ".py",
   "mimetype": "text/x-python",
   "name": "python",
   "nbconvert_exporter": "python",
   "pygments_lexer": "ipython3",
   "version": "3.7.3"
  }
 },
 "nbformat": 4,
 "nbformat_minor": 2
}
