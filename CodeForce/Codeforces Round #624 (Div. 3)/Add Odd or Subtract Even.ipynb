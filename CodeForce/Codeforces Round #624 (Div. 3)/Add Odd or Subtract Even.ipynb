{
 "cells": [
  {
   "cell_type": "code",
   "execution_count": 7,
   "metadata": {},
   "outputs": [
    {
     "name": "stdout",
     "output_type": "stream",
     "text": [
      "5\n",
      "2 3\n",
      "1\n",
      "10 10\n",
      "0\n",
      "2 4\n",
      "2\n",
      "7 4\n",
      "2\n",
      "9 3\n",
      "1\n"
     ]
    }
   ],
   "source": [
    "for i in range(int(input())):                ##   Replace i with _ \n",
    "    a, b = map(int, input().split())\n",
    "    print(0 if a==b else 1+((a<b)^((a+b)%2)))  \n",
    "    ## If a<b,  a<b = 1.  If a,b are also even or odd, (a+b)%2 = 0."
   ]
  },
  {
   "cell_type": "code",
   "execution_count": null,
   "metadata": {},
   "outputs": [],
   "source": []
  }
 ],
 "metadata": {
  "kernelspec": {
   "display_name": "Python 3",
   "language": "python",
   "name": "python3"
  },
  "language_info": {
   "codemirror_mode": {
    "name": "ipython",
    "version": 3
   },
   "file_extension": ".py",
   "mimetype": "text/x-python",
   "name": "python",
   "nbconvert_exporter": "python",
   "pygments_lexer": "ipython3",
   "version": "3.7.3"
  }
 },
 "nbformat": 4,
 "nbformat_minor": 2
}
